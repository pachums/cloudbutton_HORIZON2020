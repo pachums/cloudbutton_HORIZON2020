{
 "cells": [
  {
   "cell_type": "markdown",
   "metadata": {},
   "source": [
    "# Classification with Random Forest\n",
    "Supervised classification based in random forest algorithm "
   ]
  },
  {
   "cell_type": "markdown",
   "metadata": {},
   "source": [
    "**Import libraries**"
   ]
  },
  {
   "cell_type": "code",
   "execution_count": 3,
   "metadata": {},
   "outputs": [
    {
     "ename": "ModuleNotFoundError",
     "evalue": "No module named 'geopandas'",
     "output_type": "error",
     "traceback": [
      "\u001b[0;31m---------------------------------------------------------------------------\u001b[0m",
      "\u001b[0;31mModuleNotFoundError\u001b[0m                       Traceback (most recent call last)",
      "\u001b[0;32m<ipython-input-3-6dea75537143>\u001b[0m in \u001b[0;36m<module>\u001b[0;34m\u001b[0m\n\u001b[1;32m      5\u001b[0m \u001b[0;32mimport\u001b[0m \u001b[0mogr\u001b[0m\u001b[0;34m\u001b[0m\u001b[0;34m\u001b[0m\u001b[0m\n\u001b[1;32m      6\u001b[0m \u001b[0;32mfrom\u001b[0m \u001b[0mskimage\u001b[0m \u001b[0;32mimport\u001b[0m \u001b[0mexposure\u001b[0m\u001b[0;34m\u001b[0m\u001b[0;34m\u001b[0m\u001b[0m\n\u001b[0;32m----> 7\u001b[0;31m \u001b[0;32mimport\u001b[0m \u001b[0mgeopandas\u001b[0m \u001b[0;32mas\u001b[0m \u001b[0mgpd\u001b[0m\u001b[0;34m\u001b[0m\u001b[0;34m\u001b[0m\u001b[0m\n\u001b[0m\u001b[1;32m      8\u001b[0m \u001b[0;32mimport\u001b[0m \u001b[0mtime\u001b[0m\u001b[0;34m\u001b[0m\u001b[0;34m\u001b[0m\u001b[0m\n\u001b[1;32m      9\u001b[0m \u001b[0;32mfrom\u001b[0m \u001b[0msklearn\u001b[0m\u001b[0;34m.\u001b[0m\u001b[0mensemble\u001b[0m \u001b[0;32mimport\u001b[0m \u001b[0mRandomForestClassifier\u001b[0m\u001b[0;34m\u001b[0m\u001b[0;34m\u001b[0m\u001b[0m\n",
      "\u001b[0;31mModuleNotFoundError\u001b[0m: No module named 'geopandas'"
     ]
    }
   ],
   "source": [
    "import scipy\n",
    "import pandas as pd\n",
    "import numpy as np\n",
    "import gdal\n",
    "import ogr\n",
    "from skimage import exposure\n",
    "import geopandas as gpd\n",
    "import time\n",
    "from sklearn.ensemble import RandomForestClassifier\n",
    "from skimage.segmentation import slic\n",
    "\n",
    "print('Libraries imported successfully')"
   ]
  },
  {
   "cell_type": "code",
   "execution_count": 2,
   "metadata": {},
   "outputs": [],
   "source": [
    "seg_start=time.time() #For checking ejecution time"
   ]
  },
  {
   "cell_type": "markdown",
   "metadata": {},
   "source": [
    "**Define directories**\n",
    "\n",
    " - <b>tmp</b>: directory\n",
    " \n",
    " - <b>tmp_raster</b>: raster name\n",
    "  \n",
    " - <b>naip_fn</b>: path to the raster image\n",
    " "
   ]
  },
  {
   "cell_type": "code",
   "execution_count": 3,
   "metadata": {},
   "outputs": [],
   "source": [
    "# define directories\n",
    "tmp= 'E:/cloudbutton/DATASET/'\n",
    "tmp_raster = 'valenciana_704000.0-4400000.0_comunidad_mask.tif'\n",
    "\n",
    "naip_fn = f'{tmp}Dataset_processing/Tiling/{tmp_raster}'\n"
   ]
  },
  {
   "cell_type": "markdown",
   "metadata": {},
   "source": [
    "### Image segmentation\n",
    "Make segmentation of the image for the future classification"
   ]
  },
  {
   "cell_type": "code",
   "execution_count": 4,
   "metadata": {},
   "outputs": [
    {
     "name": "stderr",
     "output_type": "stream",
     "text": [
      "C:\\Users\\usuario\\anaconda3\\lib\\site-packages\\ipykernel_launcher.py:12: FutureWarning: skimage.measure.label's indexing starts from 0. In future version it will start from 1. To disable this warning, explicitely set the `start_label` parameter to 1.\n",
      "  if sys.path[0] == '':\n"
     ]
    },
    {
     "name": "stdout",
     "output_type": "stream",
     "text": [
      "segments complete 263.8433792591095\n"
     ]
    }
   ],
   "source": [
    "driverTiff = gdal.GetDriverByName('GTiff')\n",
    "naip_ds = gdal.Open(naip_fn)\n",
    "nbands = naip_ds.RasterCount\n",
    "band_data = []\n",
    "\n",
    "for i in range(1, nbands+1):\n",
    "    band = naip_ds.GetRasterBand(i).ReadAsArray()\n",
    "    band_data.append(band)\n",
    "band_data = np.dstack(band_data)\n",
    "img = exposure.rescale_intensity(band_data)\n",
    "\n",
    "segments = slic(img, n_segments=10000, compactness=0.1)\n",
    "print('segments complete', time.time() - seg_start)"
   ]
  },
  {
   "cell_type": "markdown",
   "metadata": {},
   "source": [
    "**Save** segments to raster"
   ]
  },
  {
   "cell_type": "code",
   "execution_count": 5,
   "metadata": {},
   "outputs": [],
   "source": [
    "output = f'{tmp}OBIA/Segmentation/segmented_{tmp_raster}.tif'\n",
    "segments_ds = driverTiff.Create(output, naip_ds.RasterXSize, naip_ds.RasterYSize, 1, gdal.GDT_Float32)\n",
    "segments_ds.SetGeoTransform(naip_ds.GetGeoTransform())\n",
    "segments_ds.SetProjection(naip_ds.GetProjectionRef())\n",
    "segments_ds.GetRasterBand(1).WriteArray(segments)\n",
    "segments_ds = None"
   ]
  },
  {
   "cell_type": "markdown",
   "metadata": {},
   "source": [
    "### Spectral properties of image segments\n",
    "Obtain all the spectral properties of the different bands of the raster image"
   ]
  },
  {
   "cell_type": "code",
   "execution_count": 6,
   "metadata": {},
   "outputs": [],
   "source": [
    "def segment_features(segment_pixels):\n",
    "    features = []\n",
    "    npixels, nbands = segment_pixels.shape\n",
    "    for b in range(nbands):\n",
    "        stats = scipy.stats.describe(segment_pixels[:, b])\n",
    "        band_stats = list(stats.minmax) + list(stats)[2:]\n",
    "        if npixels == 1:\n",
    "            # in this case the variance = nan, change it 0.0\n",
    "            band_stats[3] = 0.0\n",
    "        features += band_stats\n",
    "    return features\n",
    "\n",
    "segment_ids = np.unique(segments)\n",
    "objects = []\n",
    "object_ids = []\n",
    "for id in segment_ids:\n",
    "    segment_pixels = img[segments == id]\n",
    "    object_features = segment_features(segment_pixels)\n",
    "    objects.append(object_features)\n",
    "    object_ids.append(id)"
   ]
  },
  {
   "cell_type": "markdown",
   "metadata": {},
   "source": [
    "### Training and test data\n",
    "training data: truth_data.shp file is needed to teach the algorithm how to work\n",
    "\n",
    "\n",
    "test data: a part from the previous data is gonna be splitted"
   ]
  },
  {
   "cell_type": "code",
   "execution_count": 23,
   "metadata": {},
   "outputs": [],
   "source": [
    "gdf = gpd.read_file('E:/rf_classification/truth_data_definitiva.shp')\n",
    "gdf = gdf.rename(columns={\"id\":\"label\",\"geometry\":\"geometry\"})"
   ]
  },
  {
   "cell_type": "markdown",
   "metadata": {},
   "source": [
    "Create a unique id for each land cover class (label)"
   ]
  },
  {
   "cell_type": "code",
   "execution_count": 24,
   "metadata": {},
   "outputs": [],
   "source": [
    "class_names = gdf['label'].unique()\n",
    "class_ids = np.arange(class_names.size) + 1\n",
    "df = pd.DataFrame({'label': class_names, 'id': class_ids})"
   ]
  },
  {
   "cell_type": "markdown",
   "metadata": {},
   "source": [
    "Add a new column to geodatafame with the id for each class (label)"
   ]
  },
  {
   "cell_type": "code",
   "execution_count": 25,
   "metadata": {},
   "outputs": [
    {
     "name": "stdout",
     "output_type": "stream",
     "text": [
      "    label                   geometry  id\n",
      "0       1  POINT (-0.55361 39.71167)   1\n",
      "1       1  POINT (-0.55903 39.71065)   1\n",
      "2       1  POINT (-0.49431 39.70662)   1\n",
      "3       1  POINT (-0.48813 39.68796)   1\n",
      "4       1  POINT (-0.49374 39.66142)   1\n",
      "5       1  POINT (-0.54507 39.63492)   1\n",
      "6       1  POINT (-0.54804 39.62685)   1\n",
      "7       1  POINT (-0.60602 39.61899)   1\n",
      "8       1  POINT (-0.48554 39.65142)   1\n",
      "9       1  POINT (-0.52793 39.71774)   1\n",
      "10      1  POINT (-0.57780 39.63598)   1\n",
      "11      1  POINT (-0.61070 39.63912)   1\n",
      "12      1  POINT (-0.49545 39.59359)   1\n",
      "13      1  POINT (-0.49885 39.63507)   1\n",
      "14      2  POINT (-0.57473 39.68867)   2\n",
      "15      2  POINT (-0.58966 39.68161)   2\n",
      "16      2  POINT (-0.60366 39.68019)   2\n",
      "17      2  POINT (-0.61356 39.67681)   2\n",
      "18      2  POINT (-0.49606 39.61080)   2\n",
      "19      2  POINT (-0.47070 39.59551)   2\n",
      "20      2  POINT (-0.45132 39.60435)   2\n",
      "21      2  POINT (-0.45549 39.61711)   2\n",
      "22      2  POINT (-0.50543 39.61517)   2\n",
      "23      2  POINT (-0.51152 39.62267)   2\n",
      "24      2  POINT (-0.52656 39.62602)   2\n",
      "25      2  POINT (-0.50714 39.65604)   2\n",
      "26      2  POINT (-0.50094 39.65175)   2\n",
      "27      2  POINT (-0.56977 39.59989)   2\n",
      "28      2  POINT (-0.55883 39.68172)   2\n",
      "29      3  POINT (-0.54354 39.65058)   3\n",
      "30      3  POINT (-0.50498 39.64125)   3\n",
      "31      3  POINT (-0.48033 39.63315)   3\n",
      "32      3  POINT (-0.47172 39.64809)   3\n",
      "33      3  POINT (-0.51846 39.69523)   3\n",
      "34      3  POINT (-0.52412 39.69441)   3\n",
      "35      3  POINT (-0.51224 39.68451)   3\n",
      "36      3  POINT (-0.53787 39.71361)   3\n",
      "37      3  POINT (-0.47106 39.67303)   3\n",
      "38      3  POINT (-0.45325 39.66489)   3\n",
      "39      4  POINT (-0.51678 39.65341)   4\n",
      "40      4  POINT (-0.55854 39.60646)   4\n",
      "41      4  POINT (-0.55245 39.59197)   4\n",
      "42      4  POINT (-0.56551 39.63781)   4\n",
      "43      4  POINT (-0.59691 39.62787)   4\n",
      "44      4  POINT (-0.57503 39.65937)   4\n",
      "45      4  POINT (-0.58003 39.60342)   4\n",
      "46      4  POINT (-0.58838 39.59886)   4\n",
      "47      4  POINT (-0.58516 39.59303)   4\n",
      "48      4  POINT (-0.51945 39.58531)   4\n",
      "49      4  POINT (-0.53707 39.58474)   4\n",
      "50      4  POINT (-0.53935 39.58933)   4\n"
     ]
    }
   ],
   "source": [
    "gdf['id'] = gdf['label'].map(dict(zip(class_names, class_ids)))\n",
    "print(gdf)"
   ]
  },
  {
   "cell_type": "markdown",
   "metadata": {},
   "source": [
    "Split the truth data into **training and test** data sets and save each to a new shapefile"
   ]
  },
  {
   "cell_type": "code",
   "execution_count": 27,
   "metadata": {},
   "outputs": [],
   "source": [
    "gdf_train = gdf.sample(frac=0.7)  # 70% of observations assigned to training data (30% to test data)\n",
    "gdf_test = gdf.drop(gdf_train.index)\n",
    "\n",
    " # save training and test data to shapefiles\n",
    "gdf_train.to_file('E:/rf_classification/train_data.shp')\n",
    "gdf_test.to_file('E:/rf_classification/test_data.shp')"
   ]
  },
  {
   "cell_type": "markdown",
   "metadata": {},
   "source": [
    "### Associate train and test data sets with the segments \n",
    "convert the training data to raster format so each point can be associated with an image segment"
   ]
  },
  {
   "cell_type": "code",
   "execution_count": 29,
   "metadata": {},
   "outputs": [],
   "source": [
    "train_fn = 'E:/rf_classification/train_data.shp'\n",
    "train_ds = ogr.Open(train_fn)\n",
    "lyr = train_ds.GetLayer()"
   ]
  },
  {
   "cell_type": "markdown",
   "metadata": {},
   "source": [
    "Create a new raster layer in memory"
   ]
  },
  {
   "cell_type": "code",
   "execution_count": 31,
   "metadata": {},
   "outputs": [
    {
     "data": {
      "text/plain": [
       "0"
      ]
     },
     "execution_count": 31,
     "metadata": {},
     "output_type": "execute_result"
    }
   ],
   "source": [
    "driver = gdal.GetDriverByName('MEM')\n",
    "\n",
    "          # driver.Create(path, cols, rows, bands, dtype)\n",
    "target_ds = driver.Create('', naip_ds.RasterXSize, naip_ds.RasterYSize, 1, gdal.GDT_UInt16) \n",
    "target_ds.SetGeoTransform(naip_ds.GetGeoTransform())\n",
    "target_ds.SetProjection(naip_ds.GetProjection())"
   ]
  },
  {
   "cell_type": "markdown",
   "metadata": {},
   "source": [
    "Rasterize the training points"
   ]
  },
  {
   "cell_type": "code",
   "execution_count": 36,
   "metadata": {},
   "outputs": [],
   "source": [
    "options = ['ATTRIBUTE=id']\n",
    "gdal.RasterizeLayer(target_ds, [1], lyr, options=options)\n",
    "data = target_ds.GetRasterBand(1).ReadAsArray()\n",
    "ground_truth = target_ds.GetRasterBand(1).ReadAsArray()"
   ]
  },
  {
   "cell_type": "markdown",
   "metadata": {},
   "source": [
    "Get unique values  for each land cover type"
   ]
  },
  {
   "cell_type": "code",
   "execution_count": 47,
   "metadata": {},
   "outputs": [
    {
     "name": "stdout",
     "output_type": "stream",
     "text": [
      "[1 2 3 4]\n"
     ]
    }
   ],
   "source": [
    "classes = np.unique(ground_truth)[1:] \n",
    "print(classes)"
   ]
  },
  {
   "cell_type": "markdown",
   "metadata": {},
   "source": [
    "For each class record the associated segment ids"
   ]
  },
  {
   "cell_type": "code",
   "execution_count": 48,
   "metadata": {},
   "outputs": [],
   "source": [
    "segments_per_class = {}\n",
    "for klass in classes:\n",
    "    segments_of_class = segments[ground_truth == klass]\n",
    "    segments_per_class[klass] = set(segments_of_class)"
   ]
  },
  {
   "cell_type": "markdown",
   "metadata": {},
   "source": [
    "Check those segments"
   ]
  },
  {
   "cell_type": "code",
   "execution_count": 49,
   "metadata": {},
   "outputs": [
    {
     "name": "stdout",
     "output_type": "stream",
     "text": [
      "{1: {2, 131, 38, 361, 10, 273, 276, 92, 318}, 2: {4, 377, 42, 76, 368, 276, 118, 183, 120, 249}, 3: {131, 35, 4, 37, 75, 252}, 4: {352, 416, 290, 4, 356, 302, 207, 313, 283, 381}}\n"
     ]
    }
   ],
   "source": [
    "print(segments_per_class)"
   ]
  },
  {
   "cell_type": "markdown",
   "metadata": {},
   "source": [
    "### Land cover classification\n",
    "Based on Random Forest algorithm "
   ]
  },
  {
   "cell_type": "markdown",
   "metadata": {},
   "source": [
    "Select all pixels in training segments assigned value greater than threshold"
   ]
  },
  {
   "cell_type": "code",
   "execution_count": 107,
   "metadata": {},
   "outputs": [],
   "source": [
    "train_img = np.copy(segments)\n",
    "threshold = train_img.max() + 1  # make the threshold value greater than any land cover class value\n",
    "\n",
    "for klass in classes:\n",
    "    class_label = threshold + klass+10\n",
    "    for segment_id in segments_per_class[klass]:\n",
    "        train_img[train_img == segment_id] = class_label"
   ]
  },
  {
   "cell_type": "code",
   "execution_count": 108,
   "metadata": {},
   "outputs": [
    {
     "name": "stdout",
     "output_type": "stream",
     "text": [
      "435\n",
      "[[  0   0   0 ...   6   6   6]\n",
      " [  0   0   0 ...   6   6   6]\n",
      " [  0   0   0 ...   6   6   6]\n",
      " ...\n",
      " [434 434 434 ... 195 195 195]\n",
      " [434 434 434 ... 195 195 195]\n",
      " [434 434 434 ... 195 195 195]]\n"
     ]
    }
   ],
   "source": [
    "print(train_img)"
   ]
  },
  {
   "cell_type": "markdown",
   "metadata": {},
   "source": [
    "Make 0 all segments without classification. Keep the value of the rest"
   ]
  },
  {
   "cell_type": "code",
   "execution_count": 2,
   "metadata": {},
   "outputs": [
    {
     "ename": "NameError",
     "evalue": "name 'train_img' is not defined",
     "output_type": "error",
     "traceback": [
      "\u001b[0;31m---------------------------------------------------------------------------\u001b[0m",
      "\u001b[0;31mNameError\u001b[0m                                 Traceback (most recent call last)",
      "\u001b[0;32m<ipython-input-2-b52ce4daf691>\u001b[0m in \u001b[0;36m<module>\u001b[0;34m\u001b[0m\n\u001b[0;32m----> 1\u001b[0;31m \u001b[0mtrain_img\u001b[0m\u001b[0;34m[\u001b[0m\u001b[0mtrain_img\u001b[0m \u001b[0;34m<=\u001b[0m \u001b[0mthreshold\u001b[0m\u001b[0;34m]\u001b[0m \u001b[0;34m=\u001b[0m \u001b[0;36m0\u001b[0m\u001b[0;34m\u001b[0m\u001b[0;34m\u001b[0m\u001b[0m\n\u001b[0m\u001b[1;32m      2\u001b[0m \u001b[0mtrain_img\u001b[0m\u001b[0;34m[\u001b[0m\u001b[0mtrain_img\u001b[0m \u001b[0;34m>\u001b[0m \u001b[0mthreshold\u001b[0m\u001b[0;34m]\u001b[0m \u001b[0;34m-=\u001b[0m \u001b[0mthreshold\u001b[0m\u001b[0;34m\u001b[0m\u001b[0;34m\u001b[0m\u001b[0m\n",
      "\u001b[0;31mNameError\u001b[0m: name 'train_img' is not defined"
     ]
    }
   ],
   "source": [
    "train_img[train_img <= threshold] = 0\n",
    "train_img[train_img > threshold] -= threshold"
   ]
  },
  {
   "cell_type": "markdown",
   "metadata": {},
   "source": [
    "Create objects and labels for training data"
   ]
  },
  {
   "cell_type": "code",
   "execution_count": 111,
   "metadata": {},
   "outputs": [],
   "source": [
    "training_objects = []\n",
    "training_labels = []\n",
    "for klass in classes:\n",
    "    class_train_object = [v for i, v in enumerate(objects) if segment_ids[i] in segments_per_class[klass]]\n",
    "    training_labels += [klass] * len(class_train_object)\n",
    "    training_objects += class_train_object"
   ]
  },
  {
   "cell_type": "markdown",
   "metadata": {},
   "source": [
    "Setup **Random Forest Classifier**, train and predict"
   ]
  },
  {
   "cell_type": "code",
   "execution_count": null,
   "metadata": {},
   "outputs": [],
   "source": [
    "classifier = RandomForestClassifier(n_jobs=-1)  # setup random forest classifier\n",
    "classifier.fit(training_objects, training_labels)  # fit rf classifier\n",
    "predicted = classifier.predict(objects)  # predict with rf classifier"
   ]
  },
  {
   "cell_type": "markdown",
   "metadata": {},
   "source": [
    "Create numpy array and save to raster"
   ]
  },
  {
   "cell_type": "code",
   "execution_count": 113,
   "metadata": {},
   "outputs": [],
   "source": [
    "clf = np.copy(segments)\n",
    "for segment_id, klass in zip(segment_ids, predicted):\n",
    "    clf[clf == segment_id] = klass"
   ]
  },
  {
   "cell_type": "markdown",
   "metadata": {},
   "source": [
    "Masks no data values"
   ]
  },
  {
   "cell_type": "code",
   "execution_count": null,
   "metadata": {},
   "outputs": [],
   "source": [
    "mask = np.sum(img, axis=2)\n",
    "mask[mask > 0.0] = 1.0\n",
    "mask[mask == 0.0] = -1.0\n",
    "clf = np.multiply(clf, mask)\n",
    "clf[clf < 0] = -9999.0"
   ]
  },
  {
   "cell_type": "markdown",
   "metadata": {},
   "source": [
    "Save classification"
   ]
  },
  {
   "cell_type": "code",
   "execution_count": 114,
   "metadata": {},
   "outputs": [
    {
     "name": "stdout",
     "output_type": "stream",
     "text": [
      "Done!\n"
     ]
    }
   ],
   "source": [
    "output_rf = 'E:/rf_classification/classified_result.tif'\n",
    "\n",
    "clfds = driverTiff.Create(output_rf, naip_ds.RasterXSize, naip_ds.RasterYSize,\n",
    "                          1, gdal.GDT_Float32)  # this section saves to raster\n",
    "clfds.SetGeoTransform(naip_ds.GetGeoTransform())\n",
    "clfds.SetProjection(naip_ds.GetProjection())\n",
    "clfds.GetRasterBand(1).SetNoDataValue(-9999.0)\n",
    "clfds.GetRasterBand(1).WriteArray(clf)\n",
    "clfds = None"
   ]
  },
  {
   "cell_type": "code",
   "execution_count": 116,
   "metadata": {},
   "outputs": [
    {
     "name": "stdout",
     "output_type": "stream",
     "text": [
      "Random forest classification finished successfully in 13086.662047863007 s\n"
     ]
    }
   ],
   "source": [
    "print(f'Random forest classification finished successfully in {time.time() - seg_start} s')"
   ]
  },
  {
   "cell_type": "code",
   "execution_count": null,
   "metadata": {},
   "outputs": [],
   "source": []
  }
 ],
 "metadata": {
  "kernelspec": {
   "display_name": "Python 3",
   "language": "python",
   "name": "python3"
  },
  "language_info": {
   "codemirror_mode": {
    "name": "ipython",
    "version": 3
   },
   "file_extension": ".py",
   "mimetype": "text/x-python",
   "name": "python",
   "nbconvert_exporter": "python",
   "pygments_lexer": "ipython3",
   "version": "3.8.6"
  }
 },
 "nbformat": 4,
 "nbformat_minor": 4
}
