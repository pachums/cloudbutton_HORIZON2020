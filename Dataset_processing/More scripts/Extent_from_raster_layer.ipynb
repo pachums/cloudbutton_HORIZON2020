{
 "cells": [
  {
   "cell_type": "markdown",
   "metadata": {},
   "source": [
    "# Extent of a layer or raster\n",
    "This module contains a method for obtaining the extent of a layer or raster"
   ]
  },
  {
   "cell_type": "markdown",
   "metadata": {},
   "source": [
    "**Import libraries**"
   ]
  },
  {
   "cell_type": "code",
   "execution_count": null,
   "metadata": {},
   "outputs": [],
   "source": [
    "import gdal, ogr, osr\n",
    "import numpy as np"
   ]
  },
  {
   "cell_type": "markdown",
   "metadata": {},
   "source": [
    "### get_layerextent\n",
    "Function to get the extent of a layer for shp or gpkg files.\n",
    "\n",
    " - <b>layer_path</b>: path to the layer\n",
    " "
   ]
  },
  {
   "cell_type": "code",
   "execution_count": null,
   "metadata": {},
   "outputs": [],
   "source": [
    "def get_layerextent(layer_path):\n",
    "    longitud = len(layer_path.split(\".\"))\n",
    "    driver_name = layer_path.split(\".\")[longitud - 1]\n",
    "    if driver_name == \"gpkg\":\n",
    "        driver = ogr.GetDriverByName(\"GPKG\")\n",
    "    if driver_name == \"shp\":\n",
    "        driver = ogr.GetDriverByName(\"ESRI Shapefile\")\n",
    "\n",
    "    ds = driver.Open(layer_path)\n",
    "    xmin, xmax, ymin, ymax = ds.GetLayer().GetExtent()\n",
    "    extent = f\"{xmin}, {ymin}, {xmax}, {ymax}\"\n",
    "\n",
    "    del ds\n",
    "    print(extent)"
   ]
  },
  {
   "cell_type": "markdown",
   "metadata": {},
   "source": [
    "### get_rasterextent\n",
    "Function to get the extent of a raster\n",
    "\n",
    " - <b>raster_path</b>: path to the raster"
   ]
  },
  {
   "cell_type": "code",
   "execution_count": null,
   "metadata": {},
   "outputs": [],
   "source": [
    "def get_rasterextent(raster, dictionary = False):\n",
    "    r = gdal.Open(raster)\n",
    "    ulx, xres, xskew, uly, yskew, yres = r.GetGeoTransform()\n",
    "    lrx = ulx + (r.RasterXSize * xres)\n",
    "    rly = uly + (r.RasterYSize * yres)\n",
    "\n",
    "    # xmin, xmax, ymin and ymax\n",
    "    extent = [ulx, lrx, rly, uly]\n",
    "    print(extent)"
   ]
  },
  {
   "cell_type": "markdown",
   "metadata": {},
   "source": [
    "**Set directories**"
   ]
  },
  {
   "cell_type": "code",
   "execution_count": 2,
   "metadata": {},
   "outputs": [],
   "source": [
    "tmp = '/home/jovyan/work/'\n",
    "\n",
    "raster = f'{tmp}DATASET/Dataset_processing/Stackering/T30SXH.tif'\n",
    "output_folder = f'{tmp}DATASET/Dataset_files/comunidad_valenciana_disuelto.shp'"
   ]
  },
  {
   "cell_type": "code",
   "execution_count": null,
   "metadata": {},
   "outputs": [],
   "source": []
  }
 ],
 "metadata": {
  "kernelspec": {
   "display_name": "Python 3",
   "language": "python",
   "name": "python3"
  },
  "language_info": {
   "codemirror_mode": {
    "name": "ipython",
    "version": 3
   },
   "file_extension": ".py",
   "mimetype": "text/x-python",
   "name": "python",
   "nbconvert_exporter": "python",
   "pygments_lexer": "ipython3",
   "version": "3.8.6"
  }
 },
 "nbformat": 4,
 "nbformat_minor": 4
}
