{
 "cells": [
  {
   "cell_type": "markdown",
   "metadata": {},
   "source": [
    "# Create grid\n",
    "This script contains a method for creating a grid out of a layer file"
   ]
  },
  {
   "cell_type": "markdown",
   "metadata": {},
   "source": [
    "**Import libraries**"
   ]
  },
  {
   "cell_type": "code",
   "execution_count": 20,
   "metadata": {},
   "outputs": [
    {
     "ename": "ModuleNotFoundError",
     "evalue": "No module named 'geopandas'",
     "output_type": "error",
     "traceback": [
      "\u001b[0;31m---------------------------------------------------------------------------\u001b[0m",
      "\u001b[0;31mModuleNotFoundError\u001b[0m                       Traceback (most recent call last)",
      "\u001b[0;32m<ipython-input-20-ef08460497b1>\u001b[0m in \u001b[0;36m<module>\u001b[0;34m\u001b[0m\n\u001b[1;32m      1\u001b[0m \u001b[0;32mimport\u001b[0m \u001b[0mnumpy\u001b[0m \u001b[0;32mas\u001b[0m \u001b[0mnp\u001b[0m\u001b[0;34m\u001b[0m\u001b[0;34m\u001b[0m\u001b[0m\n\u001b[0;32m----> 2\u001b[0;31m \u001b[0;32mimport\u001b[0m \u001b[0mgeopandas\u001b[0m \u001b[0;32mas\u001b[0m \u001b[0mgpd\u001b[0m\u001b[0;34m\u001b[0m\u001b[0;34m\u001b[0m\u001b[0m\n\u001b[0m\u001b[1;32m      3\u001b[0m \u001b[0;32mimport\u001b[0m \u001b[0mpandas\u001b[0m \u001b[0;32mas\u001b[0m \u001b[0mpd\u001b[0m\u001b[0;34m\u001b[0m\u001b[0;34m\u001b[0m\u001b[0m\n\u001b[1;32m      4\u001b[0m \u001b[0;32mimport\u001b[0m \u001b[0mshapely\u001b[0m\u001b[0;34m.\u001b[0m\u001b[0mgeometry\u001b[0m\u001b[0;34m\u001b[0m\u001b[0;34m\u001b[0m\u001b[0m\n\u001b[1;32m      5\u001b[0m \u001b[0;32mimport\u001b[0m \u001b[0mtime\u001b[0m\u001b[0;34m\u001b[0m\u001b[0;34m\u001b[0m\u001b[0m\n",
      "\u001b[0;31mModuleNotFoundError\u001b[0m: No module named 'geopandas'"
     ]
    }
   ],
   "source": [
    "import numpy as np\n",
    "import geopandas as gpd\n",
    "import pandas as pd\n",
    "import shapely.geometry\n",
    "import time\n",
    "\n",
    "print('Libraries imported successfully')"
   ]
  },
  {
   "cell_type": "code",
   "execution_count": 21,
   "metadata": {},
   "outputs": [],
   "source": [
    "seg_start=time.time() #For checking ejecution time"
   ]
  },
  {
   "cell_type": "markdown",
   "metadata": {},
   "source": [
    "**Define directories**\n",
    "\n",
    " - <b>path_to_layer</b>: path to shp file of the desire extent\n",
    " \n",
    " - <b>output</b>: output folder where the grid will be saved\n",
    " \n",
    " - <b>spacing</b>: spacing between polygons in the grid\n",
    "  \n",
    " - <b>epsg</b>: define epsg \n",
    " \n",
    " - <b>buffer</b>: intersection of polygons"
   ]
  },
  {
   "cell_type": "code",
   "execution_count": null,
   "metadata": {},
   "outputs": [],
   "source": [
    "tmp = '/home/jovyan/work/'\n",
    "\n",
    "path_to_layer = f'{tmp}Dataset_files/comunidad_valenciana.shp'  \n",
    "output = f'{tmp}Dataset_files/abc_comunidad_valenciana.shp'\n",
    "spacing = 16000\n",
    "epsg = 25830 \n",
    "buffer = True "
   ]
  },
  {
   "cell_type": "markdown",
   "metadata": {},
   "source": [
    "Define **size of the extent** to be sure the bounding box created has all the set point inside and it is multiple of the spacing."
   ]
  },
  {
   "cell_type": "code",
   "execution_count": null,
   "metadata": {},
   "outputs": [],
   "source": [
    "gdf = gpd.read_file(path_to_layer)\n",
    "xmin, ymin, xmax, ymax = gdf.total_bounds # bounds of the total geometry\n",
    "\n",
    "ytop = np.ceil(np.ceil(ymax) / spacing) * spacing\n",
    "ybottom = np.floor(np.floor(ymin) / spacing) * spacing\n",
    "xright = np.ceil(np.ceil(xmax) / spacing) * spacing\n",
    "xleft = np.floor(np.floor(xmin) / spacing) * spacing\n",
    "\n",
    "# Defining number of rows and columns\n",
    "rows = int((ytop - ybottom) / spacing)\n",
    "cols = int((xright - xleft) / spacing)"
   ]
  },
  {
   "cell_type": "markdown",
   "metadata": {},
   "source": [
    "A for loop for **creating all polygons** of the grid"
   ]
  },
  {
   "cell_type": "code",
   "execution_count": null,
   "metadata": {},
   "outputs": [],
   "source": [
    "polygons = []\n",
    "it = 0\n",
    "listfid = []\n",
    "\n",
    "for i in np.arange(xleft, xright, spacing):\n",
    "    xleft = i\n",
    "    xright = xleft + spacing\n",
    "    ytop_backup = ytop\n",
    "    for j in np.arange(ytop, ybottom, -spacing):\n",
    "        ytop = j\n",
    "        ybottom = ytop - spacing\n",
    "\n",
    "        polygon = shapely.geometry.Polygon([\n",
    "            (xleft, ytop),\n",
    "            (xright, ytop),\n",
    "            (xright, ybottom),\n",
    "            (xleft, ybottom)\n",
    "        ]\n",
    "        )\n",
    "        polygons.append(polygon)\n",
    "        listfid.append(it)\n",
    "        it += 1\n",
    "    ytop = ytop_backup"
   ]
  },
  {
   "cell_type": "markdown",
   "metadata": {},
   "source": [
    "Set metadata and write it into the disk"
   ]
  },
  {
   "cell_type": "code",
   "execution_count": null,
   "metadata": {},
   "outputs": [],
   "source": [
    "srs = f\"epsg:{epsg}\"\n",
    "fid = pd.DataFrame({\"fid_id\": listfid})\n",
    "grid = gpd.GeoDataFrame(fid, geometry=polygons, crs={\"init\": srs})\n",
    "\n",
    "print(\"Writing grid into disk\")\n",
    "grid.to_file(output, driver=\"GPKG\")"
   ]
  },
  {
   "cell_type": "code",
   "execution_count": null,
   "metadata": {},
   "outputs": [],
   "source": [
    "if buffer:\n",
    "    buf = grid.geometry.buffer(buffer)\n",
    "    envelope = buf.envelope\n",
    "    return(envelope)\n",
    "else:\n",
    "    return(grid)"
   ]
  },
  {
   "cell_type": "code",
   "execution_count": null,
   "metadata": {},
   "outputs": [],
   "source": [
    "print('Grid finished successfully in {time.time() - seg_start} s')"
   ]
  }
 ],
 "metadata": {
  "kernelspec": {
   "display_name": "Python 3",
   "language": "python",
   "name": "python3"
  },
  "language_info": {
   "codemirror_mode": {
    "name": "ipython",
    "version": 3
   },
   "file_extension": ".py",
   "mimetype": "text/x-python",
   "name": "python",
   "nbconvert_exporter": "python",
   "pygments_lexer": "ipython3",
   "version": "3.8.6"
  }
 },
 "nbformat": 4,
 "nbformat_minor": 4
}
