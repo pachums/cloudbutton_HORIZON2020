{
 "cells": [
  {
   "cell_type": "markdown",
   "metadata": {},
   "source": [
    "# Reprojectation of a raster image"
   ]
  },
  {
   "cell_type": "markdown",
   "metadata": {},
   "source": [
    "**Import libraries**"
   ]
  },
  {
   "cell_type": "code",
   "execution_count": 55,
   "metadata": {},
   "outputs": [],
   "source": [
    "import gdal\n",
    "import osr"
   ]
  },
  {
   "cell_type": "markdown",
   "metadata": {},
   "source": [
    "Function to reproject an image to a desire espg\n",
    "\n",
    " - <b>image</b>: path to raster image\n",
    " \n",
    " - <b>output_folder</b>: output folder where the output image will be saved\n",
    " \n",
    " - <b>epsg_to</b>: coordinate epsg code to reproject into. 25830 by deafult."
   ]
  },
  {
   "cell_type": "code",
   "execution_count": 56,
   "metadata": {},
   "outputs": [],
   "source": [
    "def reproject(image, output_folder, epsg_to=25830):\n",
    "    \n",
    "    #save the name of the file and define output directory\n",
    "    splitted = image.split(\"/\")\n",
    "    lenout = len(splitted)\n",
    "    out_name = splitted[lenout-1]\n",
    "    output = f\"{output_folder}/reprojeted_{out_name}\"\n",
    "\n",
    "    #set the spatial reference system\n",
    "    dataset = gdal.Open(image)\n",
    "    srs = osr.SpatialReference()\n",
    "    srs.ImportFromEPSG(epsg_to)\n",
    "    vrt_ds = gdal.AutoCreateWarpedVRT(dataset, None, srs.ExportToWkt(), gdal.GRA_NearestNeighbour)\n",
    "    \n",
    "    #create reproyected raster\n",
    "    gdal.GetDriverByName(\"GTiff\").CreateCopy(output, vrt_ds)"
   ]
  },
  {
   "cell_type": "markdown",
   "metadata": {},
   "source": [
    "**Set directories**"
   ]
  },
  {
   "cell_type": "code",
   "execution_count": 59,
   "metadata": {},
   "outputs": [],
   "source": [
    "tmp = '/home/jovyan/work/'\n",
    "\n",
    "raster = f'{tmp}DATASET/Dataset_processing/Stackering/T30SXH.tif'\n",
    "output_folder = f'{tmp}DATASET/Dataset_processing/Stackering'"
   ]
  },
  {
   "cell_type": "code",
   "execution_count": 60,
   "metadata": {},
   "outputs": [],
   "source": [
    "reproject(raster, output_folder)"
   ]
  },
  {
   "cell_type": "code",
   "execution_count": null,
   "metadata": {},
   "outputs": [],
   "source": []
  }
 ],
 "metadata": {
  "kernelspec": {
   "display_name": "Python 3",
   "language": "python",
   "name": "python3"
  },
  "language_info": {
   "codemirror_mode": {
    "name": "ipython",
    "version": 3
   },
   "file_extension": ".py",
   "mimetype": "text/x-python",
   "name": "python",
   "nbconvert_exporter": "python",
   "pygments_lexer": "ipython3",
   "version": "3.8.6"
  }
 },
 "nbformat": 4,
 "nbformat_minor": 4
}
