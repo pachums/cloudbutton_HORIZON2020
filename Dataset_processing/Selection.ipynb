{
 "cells": [
  {
   "cell_type": "markdown",
   "metadata": {},
   "source": [
    "# Tiling selection | Dataset"
   ]
  },
  {
   "cell_type": "markdown",
   "metadata": {},
   "source": [
    "This script is done with the purpose of selecting from all the raster images after the tiling process the ones that are interesting for the future classification. The script will select and avoid the satellite images which have no data, the ones that were out of the mask we wraped before."
   ]
  },
  {
   "cell_type": "code",
   "execution_count": 1,
   "metadata": {},
   "outputs": [],
   "source": [
    "import numpy as np\n",
    "import rasterio\n",
    "import glob"
   ]
  },
  {
   "cell_type": "markdown",
   "metadata": {},
   "source": [
    "Define the directories of the raster images and an output directory for the future files."
   ]
  },
  {
   "cell_type": "code",
   "execution_count": 2,
   "metadata": {},
   "outputs": [],
   "source": [
    "input_path = '/home/jovyan/work/Dataset_valencia/Dataset_by_bands/Tiling_b8/'\n",
    "output_path = '/home/jovyan/work/Dataset_valencia/Dataset_by_bands/Tiling_b8_selection/'"
   ]
  },
  {
   "cell_type": "markdown",
   "metadata": {},
   "source": [
    "Criteria for the .tif files"
   ]
  },
  {
   "cell_type": "code",
   "execution_count": 3,
   "metadata": {},
   "outputs": [
    {
     "name": "stdout",
     "output_type": "stream",
     "text": [
      "['/home/jovyan/work/Dataset_valencia/Dataset_by_bands/Tiling_b8/valenciana_624000.0-4192000.0_comunidad_band8.tif', '/home/jovyan/work/Dataset_valencia/Dataset_by_bands/Tiling_b8/valenciana_624000.0-4208000.0_comunidad_band8.tif', '/home/jovyan/work/Dataset_valencia/Dataset_by_bands/Tiling_b8/valenciana_624000.0-4224000.0_comunidad_band8.tif', '/home/jovyan/work/Dataset_valencia/Dataset_by_bands/Tiling_b8/valenciana_624000.0-4240000.0_comunidad_band8.tif', '/home/jovyan/work/Dataset_valencia/Dataset_by_bands/Tiling_b8/valenciana_624000.0-4256000.0_comunidad_band8.tif', '/home/jovyan/work/Dataset_valencia/Dataset_by_bands/Tiling_b8/valenciana_624000.0-4272000.0_comunidad_band8.tif', '/home/jovyan/work/Dataset_valencia/Dataset_by_bands/Tiling_b8/valenciana_624000.0-4288000.0_comunidad_band8.tif', '/home/jovyan/work/Dataset_valencia/Dataset_by_bands/Tiling_b8/valenciana_624000.0-4304000.0_comunidad_band8.tif', '/home/jovyan/work/Dataset_valencia/Dataset_by_bands/Tiling_b8/valenciana_624000.0-4320000.0_comunidad_band8.tif', '/home/jovyan/work/Dataset_valencia/Dataset_by_bands/Tiling_b8/valenciana_624000.0-4336000.0_comunidad_band8.tif', '/home/jovyan/work/Dataset_valencia/Dataset_by_bands/Tiling_b8/valenciana_624000.0-4352000.0_comunidad_band8.tif', '/home/jovyan/work/Dataset_valencia/Dataset_by_bands/Tiling_b8/valenciana_624000.0-4368000.0_comunidad_band8.tif', '/home/jovyan/work/Dataset_valencia/Dataset_by_bands/Tiling_b8/valenciana_624000.0-4384000.0_comunidad_band8.tif', '/home/jovyan/work/Dataset_valencia/Dataset_by_bands/Tiling_b8/valenciana_624000.0-4400000.0_comunidad_band8.tif', '/home/jovyan/work/Dataset_valencia/Dataset_by_bands/Tiling_b8/valenciana_624000.0-4416000.0_comunidad_band8.tif', '/home/jovyan/work/Dataset_valencia/Dataset_by_bands/Tiling_b8/valenciana_624000.0-4432000.0_comunidad_band8.tif', '/home/jovyan/work/Dataset_valencia/Dataset_by_bands/Tiling_b8/valenciana_624000.0-4448000.0_comunidad_band8.tif', '/home/jovyan/work/Dataset_valencia/Dataset_by_bands/Tiling_b8/valenciana_624000.0-4464000.0_comunidad_band8.tif', '/home/jovyan/work/Dataset_valencia/Dataset_by_bands/Tiling_b8/valenciana_624000.0-4480000.0_comunidad_band8.tif', '/home/jovyan/work/Dataset_valencia/Dataset_by_bands/Tiling_b8/valenciana_624000.0-4496000.0_comunidad_band8.tif', '/home/jovyan/work/Dataset_valencia/Dataset_by_bands/Tiling_b8/valenciana_624000.0-4512000.0_comunidad_band8.tif', '/home/jovyan/work/Dataset_valencia/Dataset_by_bands/Tiling_b8/valenciana_624000.0-4528000.0_comunidad_band8.tif', '/home/jovyan/work/Dataset_valencia/Dataset_by_bands/Tiling_b8/valenciana_640000.0-4192000.0_comunidad_band8.tif', '/home/jovyan/work/Dataset_valencia/Dataset_by_bands/Tiling_b8/valenciana_640000.0-4208000.0_comunidad_band8.tif', '/home/jovyan/work/Dataset_valencia/Dataset_by_bands/Tiling_b8/valenciana_640000.0-4224000.0_comunidad_band8.tif', '/home/jovyan/work/Dataset_valencia/Dataset_by_bands/Tiling_b8/valenciana_640000.0-4240000.0_comunidad_band8.tif', '/home/jovyan/work/Dataset_valencia/Dataset_by_bands/Tiling_b8/valenciana_640000.0-4256000.0_comunidad_band8.tif', '/home/jovyan/work/Dataset_valencia/Dataset_by_bands/Tiling_b8/valenciana_640000.0-4272000.0_comunidad_band8.tif', '/home/jovyan/work/Dataset_valencia/Dataset_by_bands/Tiling_b8/valenciana_640000.0-4288000.0_comunidad_band8.tif', '/home/jovyan/work/Dataset_valencia/Dataset_by_bands/Tiling_b8/valenciana_640000.0-4304000.0_comunidad_band8.tif', '/home/jovyan/work/Dataset_valencia/Dataset_by_bands/Tiling_b8/valenciana_640000.0-4320000.0_comunidad_band8.tif', '/home/jovyan/work/Dataset_valencia/Dataset_by_bands/Tiling_b8/valenciana_640000.0-4336000.0_comunidad_band8.tif', '/home/jovyan/work/Dataset_valencia/Dataset_by_bands/Tiling_b8/valenciana_640000.0-4352000.0_comunidad_band8.tif', '/home/jovyan/work/Dataset_valencia/Dataset_by_bands/Tiling_b8/valenciana_640000.0-4368000.0_comunidad_band8.tif', '/home/jovyan/work/Dataset_valencia/Dataset_by_bands/Tiling_b8/valenciana_640000.0-4384000.0_comunidad_band8.tif', '/home/jovyan/work/Dataset_valencia/Dataset_by_bands/Tiling_b8/valenciana_640000.0-4400000.0_comunidad_band8.tif', '/home/jovyan/work/Dataset_valencia/Dataset_by_bands/Tiling_b8/valenciana_640000.0-4416000.0_comunidad_band8.tif', '/home/jovyan/work/Dataset_valencia/Dataset_by_bands/Tiling_b8/valenciana_640000.0-4432000.0_comunidad_band8.tif', '/home/jovyan/work/Dataset_valencia/Dataset_by_bands/Tiling_b8/valenciana_640000.0-4448000.0_comunidad_band8.tif', '/home/jovyan/work/Dataset_valencia/Dataset_by_bands/Tiling_b8/valenciana_640000.0-4464000.0_comunidad_band8.tif', '/home/jovyan/work/Dataset_valencia/Dataset_by_bands/Tiling_b8/valenciana_640000.0-4480000.0_comunidad_band8.tif', '/home/jovyan/work/Dataset_valencia/Dataset_by_bands/Tiling_b8/valenciana_640000.0-4496000.0_comunidad_band8.tif', '/home/jovyan/work/Dataset_valencia/Dataset_by_bands/Tiling_b8/valenciana_640000.0-4512000.0_comunidad_band8.tif', '/home/jovyan/work/Dataset_valencia/Dataset_by_bands/Tiling_b8/valenciana_640000.0-4528000.0_comunidad_band8.tif', '/home/jovyan/work/Dataset_valencia/Dataset_by_bands/Tiling_b8/valenciana_656000.0-4192000.0_comunidad_band8.tif', '/home/jovyan/work/Dataset_valencia/Dataset_by_bands/Tiling_b8/valenciana_656000.0-4208000.0_comunidad_band8.tif', '/home/jovyan/work/Dataset_valencia/Dataset_by_bands/Tiling_b8/valenciana_656000.0-4224000.0_comunidad_band8.tif', '/home/jovyan/work/Dataset_valencia/Dataset_by_bands/Tiling_b8/valenciana_656000.0-4240000.0_comunidad_band8.tif', '/home/jovyan/work/Dataset_valencia/Dataset_by_bands/Tiling_b8/valenciana_656000.0-4256000.0_comunidad_band8.tif', '/home/jovyan/work/Dataset_valencia/Dataset_by_bands/Tiling_b8/valenciana_656000.0-4272000.0_comunidad_band8.tif', '/home/jovyan/work/Dataset_valencia/Dataset_by_bands/Tiling_b8/valenciana_656000.0-4288000.0_comunidad_band8.tif', '/home/jovyan/work/Dataset_valencia/Dataset_by_bands/Tiling_b8/valenciana_656000.0-4304000.0_comunidad_band8.tif', '/home/jovyan/work/Dataset_valencia/Dataset_by_bands/Tiling_b8/valenciana_656000.0-4320000.0_comunidad_band8.tif', '/home/jovyan/work/Dataset_valencia/Dataset_by_bands/Tiling_b8/valenciana_656000.0-4336000.0_comunidad_band8.tif', '/home/jovyan/work/Dataset_valencia/Dataset_by_bands/Tiling_b8/valenciana_656000.0-4352000.0_comunidad_band8.tif', '/home/jovyan/work/Dataset_valencia/Dataset_by_bands/Tiling_b8/valenciana_656000.0-4368000.0_comunidad_band8.tif', '/home/jovyan/work/Dataset_valencia/Dataset_by_bands/Tiling_b8/valenciana_656000.0-4384000.0_comunidad_band8.tif', '/home/jovyan/work/Dataset_valencia/Dataset_by_bands/Tiling_b8/valenciana_656000.0-4400000.0_comunidad_band8.tif', '/home/jovyan/work/Dataset_valencia/Dataset_by_bands/Tiling_b8/valenciana_656000.0-4416000.0_comunidad_band8.tif', '/home/jovyan/work/Dataset_valencia/Dataset_by_bands/Tiling_b8/valenciana_656000.0-4432000.0_comunidad_band8.tif', '/home/jovyan/work/Dataset_valencia/Dataset_by_bands/Tiling_b8/valenciana_656000.0-4448000.0_comunidad_band8.tif', '/home/jovyan/work/Dataset_valencia/Dataset_by_bands/Tiling_b8/valenciana_656000.0-4464000.0_comunidad_band8.tif', '/home/jovyan/work/Dataset_valencia/Dataset_by_bands/Tiling_b8/valenciana_656000.0-4480000.0_comunidad_band8.tif', '/home/jovyan/work/Dataset_valencia/Dataset_by_bands/Tiling_b8/valenciana_656000.0-4496000.0_comunidad_band8.tif', '/home/jovyan/work/Dataset_valencia/Dataset_by_bands/Tiling_b8/valenciana_656000.0-4512000.0_comunidad_band8.tif', '/home/jovyan/work/Dataset_valencia/Dataset_by_bands/Tiling_b8/valenciana_656000.0-4528000.0_comunidad_band8.tif', '/home/jovyan/work/Dataset_valencia/Dataset_by_bands/Tiling_b8/valenciana_672000.0-4192000.0_comunidad_band8.tif', '/home/jovyan/work/Dataset_valencia/Dataset_by_bands/Tiling_b8/valenciana_672000.0-4208000.0_comunidad_band8.tif', '/home/jovyan/work/Dataset_valencia/Dataset_by_bands/Tiling_b8/valenciana_672000.0-4224000.0_comunidad_band8.tif', '/home/jovyan/work/Dataset_valencia/Dataset_by_bands/Tiling_b8/valenciana_672000.0-4240000.0_comunidad_band8.tif', '/home/jovyan/work/Dataset_valencia/Dataset_by_bands/Tiling_b8/valenciana_672000.0-4256000.0_comunidad_band8.tif', '/home/jovyan/work/Dataset_valencia/Dataset_by_bands/Tiling_b8/valenciana_672000.0-4272000.0_comunidad_band8.tif', '/home/jovyan/work/Dataset_valencia/Dataset_by_bands/Tiling_b8/valenciana_672000.0-4288000.0_comunidad_band8.tif', '/home/jovyan/work/Dataset_valencia/Dataset_by_bands/Tiling_b8/valenciana_672000.0-4304000.0_comunidad_band8.tif', '/home/jovyan/work/Dataset_valencia/Dataset_by_bands/Tiling_b8/valenciana_672000.0-4320000.0_comunidad_band8.tif', '/home/jovyan/work/Dataset_valencia/Dataset_by_bands/Tiling_b8/valenciana_672000.0-4336000.0_comunidad_band8.tif', '/home/jovyan/work/Dataset_valencia/Dataset_by_bands/Tiling_b8/valenciana_672000.0-4352000.0_comunidad_band8.tif', '/home/jovyan/work/Dataset_valencia/Dataset_by_bands/Tiling_b8/valenciana_672000.0-4368000.0_comunidad_band8.tif', '/home/jovyan/work/Dataset_valencia/Dataset_by_bands/Tiling_b8/valenciana_672000.0-4384000.0_comunidad_band8.tif', '/home/jovyan/work/Dataset_valencia/Dataset_by_bands/Tiling_b8/valenciana_672000.0-4400000.0_comunidad_band8.tif', '/home/jovyan/work/Dataset_valencia/Dataset_by_bands/Tiling_b8/valenciana_672000.0-4416000.0_comunidad_band8.tif', '/home/jovyan/work/Dataset_valencia/Dataset_by_bands/Tiling_b8/valenciana_672000.0-4432000.0_comunidad_band8.tif', '/home/jovyan/work/Dataset_valencia/Dataset_by_bands/Tiling_b8/valenciana_672000.0-4448000.0_comunidad_band8.tif', '/home/jovyan/work/Dataset_valencia/Dataset_by_bands/Tiling_b8/valenciana_672000.0-4464000.0_comunidad_band8.tif', '/home/jovyan/work/Dataset_valencia/Dataset_by_bands/Tiling_b8/valenciana_672000.0-4480000.0_comunidad_band8.tif', '/home/jovyan/work/Dataset_valencia/Dataset_by_bands/Tiling_b8/valenciana_672000.0-4496000.0_comunidad_band8.tif', '/home/jovyan/work/Dataset_valencia/Dataset_by_bands/Tiling_b8/valenciana_672000.0-4512000.0_comunidad_band8.tif', '/home/jovyan/work/Dataset_valencia/Dataset_by_bands/Tiling_b8/valenciana_672000.0-4528000.0_comunidad_band8.tif', '/home/jovyan/work/Dataset_valencia/Dataset_by_bands/Tiling_b8/valenciana_688000.0-4192000.0_comunidad_band8.tif', '/home/jovyan/work/Dataset_valencia/Dataset_by_bands/Tiling_b8/valenciana_688000.0-4208000.0_comunidad_band8.tif', '/home/jovyan/work/Dataset_valencia/Dataset_by_bands/Tiling_b8/valenciana_688000.0-4224000.0_comunidad_band8.tif', '/home/jovyan/work/Dataset_valencia/Dataset_by_bands/Tiling_b8/valenciana_688000.0-4240000.0_comunidad_band8.tif', '/home/jovyan/work/Dataset_valencia/Dataset_by_bands/Tiling_b8/valenciana_688000.0-4256000.0_comunidad_band8.tif', '/home/jovyan/work/Dataset_valencia/Dataset_by_bands/Tiling_b8/valenciana_688000.0-4272000.0_comunidad_band8.tif', '/home/jovyan/work/Dataset_valencia/Dataset_by_bands/Tiling_b8/valenciana_688000.0-4288000.0_comunidad_band8.tif', '/home/jovyan/work/Dataset_valencia/Dataset_by_bands/Tiling_b8/valenciana_688000.0-4304000.0_comunidad_band8.tif', '/home/jovyan/work/Dataset_valencia/Dataset_by_bands/Tiling_b8/valenciana_688000.0-4320000.0_comunidad_band8.tif', '/home/jovyan/work/Dataset_valencia/Dataset_by_bands/Tiling_b8/valenciana_688000.0-4336000.0_comunidad_band8.tif', '/home/jovyan/work/Dataset_valencia/Dataset_by_bands/Tiling_b8/valenciana_688000.0-4352000.0_comunidad_band8.tif', '/home/jovyan/work/Dataset_valencia/Dataset_by_bands/Tiling_b8/valenciana_688000.0-4368000.0_comunidad_band8.tif', '/home/jovyan/work/Dataset_valencia/Dataset_by_bands/Tiling_b8/valenciana_688000.0-4384000.0_comunidad_band8.tif', '/home/jovyan/work/Dataset_valencia/Dataset_by_bands/Tiling_b8/valenciana_688000.0-4400000.0_comunidad_band8.tif', '/home/jovyan/work/Dataset_valencia/Dataset_by_bands/Tiling_b8/valenciana_688000.0-4416000.0_comunidad_band8.tif', '/home/jovyan/work/Dataset_valencia/Dataset_by_bands/Tiling_b8/valenciana_688000.0-4432000.0_comunidad_band8.tif', '/home/jovyan/work/Dataset_valencia/Dataset_by_bands/Tiling_b8/valenciana_688000.0-4448000.0_comunidad_band8.tif', '/home/jovyan/work/Dataset_valencia/Dataset_by_bands/Tiling_b8/valenciana_688000.0-4464000.0_comunidad_band8.tif', '/home/jovyan/work/Dataset_valencia/Dataset_by_bands/Tiling_b8/valenciana_688000.0-4480000.0_comunidad_band8.tif', '/home/jovyan/work/Dataset_valencia/Dataset_by_bands/Tiling_b8/valenciana_688000.0-4496000.0_comunidad_band8.tif', '/home/jovyan/work/Dataset_valencia/Dataset_by_bands/Tiling_b8/valenciana_688000.0-4512000.0_comunidad_band8.tif', '/home/jovyan/work/Dataset_valencia/Dataset_by_bands/Tiling_b8/valenciana_688000.0-4528000.0_comunidad_band8.tif', '/home/jovyan/work/Dataset_valencia/Dataset_by_bands/Tiling_b8/valenciana_704000.0-4192000.0_comunidad_band8.tif', '/home/jovyan/work/Dataset_valencia/Dataset_by_bands/Tiling_b8/valenciana_704000.0-4208000.0_comunidad_band8.tif', '/home/jovyan/work/Dataset_valencia/Dataset_by_bands/Tiling_b8/valenciana_704000.0-4224000.0_comunidad_band8.tif', '/home/jovyan/work/Dataset_valencia/Dataset_by_bands/Tiling_b8/valenciana_704000.0-4240000.0_comunidad_band8.tif', '/home/jovyan/work/Dataset_valencia/Dataset_by_bands/Tiling_b8/valenciana_704000.0-4256000.0_comunidad_band8.tif', '/home/jovyan/work/Dataset_valencia/Dataset_by_bands/Tiling_b8/valenciana_704000.0-4272000.0_comunidad_band8.tif', '/home/jovyan/work/Dataset_valencia/Dataset_by_bands/Tiling_b8/valenciana_704000.0-4288000.0_comunidad_band8.tif', '/home/jovyan/work/Dataset_valencia/Dataset_by_bands/Tiling_b8/valenciana_704000.0-4304000.0_comunidad_band8.tif', '/home/jovyan/work/Dataset_valencia/Dataset_by_bands/Tiling_b8/valenciana_704000.0-4320000.0_comunidad_band8.tif', '/home/jovyan/work/Dataset_valencia/Dataset_by_bands/Tiling_b8/valenciana_704000.0-4336000.0_comunidad_band8.tif', '/home/jovyan/work/Dataset_valencia/Dataset_by_bands/Tiling_b8/valenciana_704000.0-4352000.0_comunidad_band8.tif', '/home/jovyan/work/Dataset_valencia/Dataset_by_bands/Tiling_b8/valenciana_704000.0-4368000.0_comunidad_band8.tif', '/home/jovyan/work/Dataset_valencia/Dataset_by_bands/Tiling_b8/valenciana_704000.0-4384000.0_comunidad_band8.tif', '/home/jovyan/work/Dataset_valencia/Dataset_by_bands/Tiling_b8/valenciana_704000.0-4400000.0_comunidad_band8.tif', '/home/jovyan/work/Dataset_valencia/Dataset_by_bands/Tiling_b8/valenciana_704000.0-4416000.0_comunidad_band8.tif', '/home/jovyan/work/Dataset_valencia/Dataset_by_bands/Tiling_b8/valenciana_704000.0-4432000.0_comunidad_band8.tif', '/home/jovyan/work/Dataset_valencia/Dataset_by_bands/Tiling_b8/valenciana_704000.0-4448000.0_comunidad_band8.tif', '/home/jovyan/work/Dataset_valencia/Dataset_by_bands/Tiling_b8/valenciana_704000.0-4464000.0_comunidad_band8.tif', '/home/jovyan/work/Dataset_valencia/Dataset_by_bands/Tiling_b8/valenciana_704000.0-4480000.0_comunidad_band8.tif', '/home/jovyan/work/Dataset_valencia/Dataset_by_bands/Tiling_b8/valenciana_704000.0-4496000.0_comunidad_band8.tif', '/home/jovyan/work/Dataset_valencia/Dataset_by_bands/Tiling_b8/valenciana_704000.0-4512000.0_comunidad_band8.tif', '/home/jovyan/work/Dataset_valencia/Dataset_by_bands/Tiling_b8/valenciana_704000.0-4528000.0_comunidad_band8.tif', '/home/jovyan/work/Dataset_valencia/Dataset_by_bands/Tiling_b8/valenciana_720000.0-4192000.0_comunidad_band8.tif', '/home/jovyan/work/Dataset_valencia/Dataset_by_bands/Tiling_b8/valenciana_720000.0-4208000.0_comunidad_band8.tif', '/home/jovyan/work/Dataset_valencia/Dataset_by_bands/Tiling_b8/valenciana_720000.0-4224000.0_comunidad_band8.tif', '/home/jovyan/work/Dataset_valencia/Dataset_by_bands/Tiling_b8/valenciana_720000.0-4240000.0_comunidad_band8.tif', '/home/jovyan/work/Dataset_valencia/Dataset_by_bands/Tiling_b8/valenciana_720000.0-4256000.0_comunidad_band8.tif', '/home/jovyan/work/Dataset_valencia/Dataset_by_bands/Tiling_b8/valenciana_720000.0-4272000.0_comunidad_band8.tif', '/home/jovyan/work/Dataset_valencia/Dataset_by_bands/Tiling_b8/valenciana_720000.0-4288000.0_comunidad_band8.tif', '/home/jovyan/work/Dataset_valencia/Dataset_by_bands/Tiling_b8/valenciana_720000.0-4304000.0_comunidad_band8.tif', '/home/jovyan/work/Dataset_valencia/Dataset_by_bands/Tiling_b8/valenciana_720000.0-4320000.0_comunidad_band8.tif', '/home/jovyan/work/Dataset_valencia/Dataset_by_bands/Tiling_b8/valenciana_720000.0-4336000.0_comunidad_band8.tif', '/home/jovyan/work/Dataset_valencia/Dataset_by_bands/Tiling_b8/valenciana_720000.0-4352000.0_comunidad_band8.tif', '/home/jovyan/work/Dataset_valencia/Dataset_by_bands/Tiling_b8/valenciana_720000.0-4368000.0_comunidad_band8.tif', '/home/jovyan/work/Dataset_valencia/Dataset_by_bands/Tiling_b8/valenciana_720000.0-4384000.0_comunidad_band8.tif', '/home/jovyan/work/Dataset_valencia/Dataset_by_bands/Tiling_b8/valenciana_720000.0-4400000.0_comunidad_band8.tif', '/home/jovyan/work/Dataset_valencia/Dataset_by_bands/Tiling_b8/valenciana_720000.0-4416000.0_comunidad_band8.tif', '/home/jovyan/work/Dataset_valencia/Dataset_by_bands/Tiling_b8/valenciana_720000.0-4432000.0_comunidad_band8.tif', '/home/jovyan/work/Dataset_valencia/Dataset_by_bands/Tiling_b8/valenciana_720000.0-4448000.0_comunidad_band8.tif', '/home/jovyan/work/Dataset_valencia/Dataset_by_bands/Tiling_b8/valenciana_720000.0-4464000.0_comunidad_band8.tif', '/home/jovyan/work/Dataset_valencia/Dataset_by_bands/Tiling_b8/valenciana_720000.0-4480000.0_comunidad_band8.tif', '/home/jovyan/work/Dataset_valencia/Dataset_by_bands/Tiling_b8/valenciana_720000.0-4496000.0_comunidad_band8.tif', '/home/jovyan/work/Dataset_valencia/Dataset_by_bands/Tiling_b8/valenciana_720000.0-4512000.0_comunidad_band8.tif', '/home/jovyan/work/Dataset_valencia/Dataset_by_bands/Tiling_b8/valenciana_720000.0-4528000.0_comunidad_band8.tif', '/home/jovyan/work/Dataset_valencia/Dataset_by_bands/Tiling_b8/valenciana_736000.0-4192000.0_comunidad_band8.tif', '/home/jovyan/work/Dataset_valencia/Dataset_by_bands/Tiling_b8/valenciana_736000.0-4208000.0_comunidad_band8.tif', '/home/jovyan/work/Dataset_valencia/Dataset_by_bands/Tiling_b8/valenciana_736000.0-4224000.0_comunidad_band8.tif', '/home/jovyan/work/Dataset_valencia/Dataset_by_bands/Tiling_b8/valenciana_736000.0-4240000.0_comunidad_band8.tif', '/home/jovyan/work/Dataset_valencia/Dataset_by_bands/Tiling_b8/valenciana_736000.0-4256000.0_comunidad_band8.tif', '/home/jovyan/work/Dataset_valencia/Dataset_by_bands/Tiling_b8/valenciana_736000.0-4272000.0_comunidad_band8.tif', '/home/jovyan/work/Dataset_valencia/Dataset_by_bands/Tiling_b8/valenciana_736000.0-4288000.0_comunidad_band8.tif', '/home/jovyan/work/Dataset_valencia/Dataset_by_bands/Tiling_b8/valenciana_736000.0-4304000.0_comunidad_band8.tif', '/home/jovyan/work/Dataset_valencia/Dataset_by_bands/Tiling_b8/valenciana_736000.0-4320000.0_comunidad_band8.tif', '/home/jovyan/work/Dataset_valencia/Dataset_by_bands/Tiling_b8/valenciana_736000.0-4336000.0_comunidad_band8.tif', '/home/jovyan/work/Dataset_valencia/Dataset_by_bands/Tiling_b8/valenciana_736000.0-4352000.0_comunidad_band8.tif', '/home/jovyan/work/Dataset_valencia/Dataset_by_bands/Tiling_b8/valenciana_736000.0-4368000.0_comunidad_band8.tif', '/home/jovyan/work/Dataset_valencia/Dataset_by_bands/Tiling_b8/valenciana_736000.0-4384000.0_comunidad_band8.tif', '/home/jovyan/work/Dataset_valencia/Dataset_by_bands/Tiling_b8/valenciana_736000.0-4400000.0_comunidad_band8.tif', '/home/jovyan/work/Dataset_valencia/Dataset_by_bands/Tiling_b8/valenciana_736000.0-4416000.0_comunidad_band8.tif', '/home/jovyan/work/Dataset_valencia/Dataset_by_bands/Tiling_b8/valenciana_736000.0-4432000.0_comunidad_band8.tif', '/home/jovyan/work/Dataset_valencia/Dataset_by_bands/Tiling_b8/valenciana_736000.0-4448000.0_comunidad_band8.tif', '/home/jovyan/work/Dataset_valencia/Dataset_by_bands/Tiling_b8/valenciana_736000.0-4464000.0_comunidad_band8.tif', '/home/jovyan/work/Dataset_valencia/Dataset_by_bands/Tiling_b8/valenciana_736000.0-4480000.0_comunidad_band8.tif', '/home/jovyan/work/Dataset_valencia/Dataset_by_bands/Tiling_b8/valenciana_736000.0-4496000.0_comunidad_band8.tif', '/home/jovyan/work/Dataset_valencia/Dataset_by_bands/Tiling_b8/valenciana_736000.0-4512000.0_comunidad_band8.tif', '/home/jovyan/work/Dataset_valencia/Dataset_by_bands/Tiling_b8/valenciana_736000.0-4528000.0_comunidad_band8.tif', '/home/jovyan/work/Dataset_valencia/Dataset_by_bands/Tiling_b8/valenciana_752000.0-4192000.0_comunidad_band8.tif', '/home/jovyan/work/Dataset_valencia/Dataset_by_bands/Tiling_b8/valenciana_752000.0-4208000.0_comunidad_band8.tif', '/home/jovyan/work/Dataset_valencia/Dataset_by_bands/Tiling_b8/valenciana_752000.0-4224000.0_comunidad_band8.tif', '/home/jovyan/work/Dataset_valencia/Dataset_by_bands/Tiling_b8/valenciana_752000.0-4240000.0_comunidad_band8.tif', '/home/jovyan/work/Dataset_valencia/Dataset_by_bands/Tiling_b8/valenciana_752000.0-4256000.0_comunidad_band8.tif', '/home/jovyan/work/Dataset_valencia/Dataset_by_bands/Tiling_b8/valenciana_752000.0-4272000.0_comunidad_band8.tif', '/home/jovyan/work/Dataset_valencia/Dataset_by_bands/Tiling_b8/valenciana_752000.0-4288000.0_comunidad_band8.tif', '/home/jovyan/work/Dataset_valencia/Dataset_by_bands/Tiling_b8/valenciana_752000.0-4304000.0_comunidad_band8.tif', '/home/jovyan/work/Dataset_valencia/Dataset_by_bands/Tiling_b8/valenciana_752000.0-4320000.0_comunidad_band8.tif', '/home/jovyan/work/Dataset_valencia/Dataset_by_bands/Tiling_b8/valenciana_752000.0-4336000.0_comunidad_band8.tif', '/home/jovyan/work/Dataset_valencia/Dataset_by_bands/Tiling_b8/valenciana_752000.0-4352000.0_comunidad_band8.tif', '/home/jovyan/work/Dataset_valencia/Dataset_by_bands/Tiling_b8/valenciana_752000.0-4368000.0_comunidad_band8.tif', '/home/jovyan/work/Dataset_valencia/Dataset_by_bands/Tiling_b8/valenciana_752000.0-4384000.0_comunidad_band8.tif', '/home/jovyan/work/Dataset_valencia/Dataset_by_bands/Tiling_b8/valenciana_752000.0-4400000.0_comunidad_band8.tif', '/home/jovyan/work/Dataset_valencia/Dataset_by_bands/Tiling_b8/valenciana_752000.0-4416000.0_comunidad_band8.tif', '/home/jovyan/work/Dataset_valencia/Dataset_by_bands/Tiling_b8/valenciana_752000.0-4432000.0_comunidad_band8.tif', '/home/jovyan/work/Dataset_valencia/Dataset_by_bands/Tiling_b8/valenciana_752000.0-4448000.0_comunidad_band8.tif', '/home/jovyan/work/Dataset_valencia/Dataset_by_bands/Tiling_b8/valenciana_752000.0-4464000.0_comunidad_band8.tif', '/home/jovyan/work/Dataset_valencia/Dataset_by_bands/Tiling_b8/valenciana_752000.0-4480000.0_comunidad_band8.tif', '/home/jovyan/work/Dataset_valencia/Dataset_by_bands/Tiling_b8/valenciana_752000.0-4496000.0_comunidad_band8.tif', '/home/jovyan/work/Dataset_valencia/Dataset_by_bands/Tiling_b8/valenciana_752000.0-4512000.0_comunidad_band8.tif', '/home/jovyan/work/Dataset_valencia/Dataset_by_bands/Tiling_b8/valenciana_752000.0-4528000.0_comunidad_band8.tif', '/home/jovyan/work/Dataset_valencia/Dataset_by_bands/Tiling_b8/valenciana_768000.0-4192000.0_comunidad_band8.tif', '/home/jovyan/work/Dataset_valencia/Dataset_by_bands/Tiling_b8/valenciana_768000.0-4208000.0_comunidad_band8.tif', '/home/jovyan/work/Dataset_valencia/Dataset_by_bands/Tiling_b8/valenciana_768000.0-4224000.0_comunidad_band8.tif', '/home/jovyan/work/Dataset_valencia/Dataset_by_bands/Tiling_b8/valenciana_768000.0-4240000.0_comunidad_band8.tif', '/home/jovyan/work/Dataset_valencia/Dataset_by_bands/Tiling_b8/valenciana_768000.0-4256000.0_comunidad_band8.tif', '/home/jovyan/work/Dataset_valencia/Dataset_by_bands/Tiling_b8/valenciana_768000.0-4272000.0_comunidad_band8.tif', '/home/jovyan/work/Dataset_valencia/Dataset_by_bands/Tiling_b8/valenciana_768000.0-4288000.0_comunidad_band8.tif', '/home/jovyan/work/Dataset_valencia/Dataset_by_bands/Tiling_b8/valenciana_768000.0-4304000.0_comunidad_band8.tif', '/home/jovyan/work/Dataset_valencia/Dataset_by_bands/Tiling_b8/valenciana_768000.0-4320000.0_comunidad_band8.tif', '/home/jovyan/work/Dataset_valencia/Dataset_by_bands/Tiling_b8/valenciana_768000.0-4336000.0_comunidad_band8.tif', '/home/jovyan/work/Dataset_valencia/Dataset_by_bands/Tiling_b8/valenciana_768000.0-4352000.0_comunidad_band8.tif', '/home/jovyan/work/Dataset_valencia/Dataset_by_bands/Tiling_b8/valenciana_768000.0-4368000.0_comunidad_band8.tif', '/home/jovyan/work/Dataset_valencia/Dataset_by_bands/Tiling_b8/valenciana_768000.0-4384000.0_comunidad_band8.tif', '/home/jovyan/work/Dataset_valencia/Dataset_by_bands/Tiling_b8/valenciana_768000.0-4400000.0_comunidad_band8.tif', '/home/jovyan/work/Dataset_valencia/Dataset_by_bands/Tiling_b8/valenciana_768000.0-4416000.0_comunidad_band8.tif', '/home/jovyan/work/Dataset_valencia/Dataset_by_bands/Tiling_b8/valenciana_768000.0-4432000.0_comunidad_band8.tif', '/home/jovyan/work/Dataset_valencia/Dataset_by_bands/Tiling_b8/valenciana_768000.0-4448000.0_comunidad_band8.tif', '/home/jovyan/work/Dataset_valencia/Dataset_by_bands/Tiling_b8/valenciana_768000.0-4464000.0_comunidad_band8.tif', '/home/jovyan/work/Dataset_valencia/Dataset_by_bands/Tiling_b8/valenciana_768000.0-4480000.0_comunidad_band8.tif', '/home/jovyan/work/Dataset_valencia/Dataset_by_bands/Tiling_b8/valenciana_768000.0-4496000.0_comunidad_band8.tif', '/home/jovyan/work/Dataset_valencia/Dataset_by_bands/Tiling_b8/valenciana_768000.0-4512000.0_comunidad_band8.tif', '/home/jovyan/work/Dataset_valencia/Dataset_by_bands/Tiling_b8/valenciana_768000.0-4528000.0_comunidad_band8.tif', '/home/jovyan/work/Dataset_valencia/Dataset_by_bands/Tiling_b8/valenciana_784000.0-4192000.0_comunidad_band8.tif', '/home/jovyan/work/Dataset_valencia/Dataset_by_bands/Tiling_b8/valenciana_784000.0-4208000.0_comunidad_band8.tif', '/home/jovyan/work/Dataset_valencia/Dataset_by_bands/Tiling_b8/valenciana_784000.0-4224000.0_comunidad_band8.tif', '/home/jovyan/work/Dataset_valencia/Dataset_by_bands/Tiling_b8/valenciana_784000.0-4240000.0_comunidad_band8.tif', '/home/jovyan/work/Dataset_valencia/Dataset_by_bands/Tiling_b8/valenciana_784000.0-4256000.0_comunidad_band8.tif', '/home/jovyan/work/Dataset_valencia/Dataset_by_bands/Tiling_b8/valenciana_784000.0-4272000.0_comunidad_band8.tif', '/home/jovyan/work/Dataset_valencia/Dataset_by_bands/Tiling_b8/valenciana_784000.0-4288000.0_comunidad_band8.tif', '/home/jovyan/work/Dataset_valencia/Dataset_by_bands/Tiling_b8/valenciana_784000.0-4304000.0_comunidad_band8.tif', '/home/jovyan/work/Dataset_valencia/Dataset_by_bands/Tiling_b8/valenciana_784000.0-4320000.0_comunidad_band8.tif', '/home/jovyan/work/Dataset_valencia/Dataset_by_bands/Tiling_b8/valenciana_784000.0-4336000.0_comunidad_band8.tif', '/home/jovyan/work/Dataset_valencia/Dataset_by_bands/Tiling_b8/valenciana_784000.0-4352000.0_comunidad_band8.tif', '/home/jovyan/work/Dataset_valencia/Dataset_by_bands/Tiling_b8/valenciana_784000.0-4368000.0_comunidad_band8.tif', '/home/jovyan/work/Dataset_valencia/Dataset_by_bands/Tiling_b8/valenciana_784000.0-4384000.0_comunidad_band8.tif', '/home/jovyan/work/Dataset_valencia/Dataset_by_bands/Tiling_b8/valenciana_784000.0-4400000.0_comunidad_band8.tif', '/home/jovyan/work/Dataset_valencia/Dataset_by_bands/Tiling_b8/valenciana_784000.0-4416000.0_comunidad_band8.tif', '/home/jovyan/work/Dataset_valencia/Dataset_by_bands/Tiling_b8/valenciana_784000.0-4432000.0_comunidad_band8.tif', '/home/jovyan/work/Dataset_valencia/Dataset_by_bands/Tiling_b8/valenciana_784000.0-4448000.0_comunidad_band8.tif', '/home/jovyan/work/Dataset_valencia/Dataset_by_bands/Tiling_b8/valenciana_784000.0-4464000.0_comunidad_band8.tif', '/home/jovyan/work/Dataset_valencia/Dataset_by_bands/Tiling_b8/valenciana_784000.0-4480000.0_comunidad_band8.tif', '/home/jovyan/work/Dataset_valencia/Dataset_by_bands/Tiling_b8/valenciana_784000.0-4496000.0_comunidad_band8.tif', '/home/jovyan/work/Dataset_valencia/Dataset_by_bands/Tiling_b8/valenciana_784000.0-4512000.0_comunidad_band8.tif', '/home/jovyan/work/Dataset_valencia/Dataset_by_bands/Tiling_b8/valenciana_784000.0-4528000.0_comunidad_band8.tif', '/home/jovyan/work/Dataset_valencia/Dataset_by_bands/Tiling_b8/valenciana_800000.0-4192000.0_comunidad_band8.tif', '/home/jovyan/work/Dataset_valencia/Dataset_by_bands/Tiling_b8/valenciana_800000.0-4208000.0_comunidad_band8.tif', '/home/jovyan/work/Dataset_valencia/Dataset_by_bands/Tiling_b8/valenciana_800000.0-4224000.0_comunidad_band8.tif', '/home/jovyan/work/Dataset_valencia/Dataset_by_bands/Tiling_b8/valenciana_800000.0-4240000.0_comunidad_band8.tif', '/home/jovyan/work/Dataset_valencia/Dataset_by_bands/Tiling_b8/valenciana_800000.0-4256000.0_comunidad_band8.tif', '/home/jovyan/work/Dataset_valencia/Dataset_by_bands/Tiling_b8/valenciana_800000.0-4272000.0_comunidad_band8.tif', '/home/jovyan/work/Dataset_valencia/Dataset_by_bands/Tiling_b8/valenciana_800000.0-4288000.0_comunidad_band8.tif', '/home/jovyan/work/Dataset_valencia/Dataset_by_bands/Tiling_b8/valenciana_800000.0-4304000.0_comunidad_band8.tif', '/home/jovyan/work/Dataset_valencia/Dataset_by_bands/Tiling_b8/valenciana_800000.0-4320000.0_comunidad_band8.tif', '/home/jovyan/work/Dataset_valencia/Dataset_by_bands/Tiling_b8/valenciana_800000.0-4336000.0_comunidad_band8.tif', '/home/jovyan/work/Dataset_valencia/Dataset_by_bands/Tiling_b8/valenciana_800000.0-4352000.0_comunidad_band8.tif', '/home/jovyan/work/Dataset_valencia/Dataset_by_bands/Tiling_b8/valenciana_800000.0-4368000.0_comunidad_band8.tif', '/home/jovyan/work/Dataset_valencia/Dataset_by_bands/Tiling_b8/valenciana_800000.0-4384000.0_comunidad_band8.tif', '/home/jovyan/work/Dataset_valencia/Dataset_by_bands/Tiling_b8/valenciana_800000.0-4400000.0_comunidad_band8.tif', '/home/jovyan/work/Dataset_valencia/Dataset_by_bands/Tiling_b8/valenciana_800000.0-4416000.0_comunidad_band8.tif', '/home/jovyan/work/Dataset_valencia/Dataset_by_bands/Tiling_b8/valenciana_800000.0-4432000.0_comunidad_band8.tif', '/home/jovyan/work/Dataset_valencia/Dataset_by_bands/Tiling_b8/valenciana_800000.0-4448000.0_comunidad_band8.tif', '/home/jovyan/work/Dataset_valencia/Dataset_by_bands/Tiling_b8/valenciana_800000.0-4464000.0_comunidad_band8.tif', '/home/jovyan/work/Dataset_valencia/Dataset_by_bands/Tiling_b8/valenciana_800000.0-4480000.0_comunidad_band8.tif', '/home/jovyan/work/Dataset_valencia/Dataset_by_bands/Tiling_b8/valenciana_800000.0-4496000.0_comunidad_band8.tif', '/home/jovyan/work/Dataset_valencia/Dataset_by_bands/Tiling_b8/valenciana_800000.0-4512000.0_comunidad_band8.tif', '/home/jovyan/work/Dataset_valencia/Dataset_by_bands/Tiling_b8/valenciana_800000.0-4528000.0_comunidad_band8.tif']\n"
     ]
    }
   ],
   "source": [
    "criteria = 'valenciana*.tif'\n",
    "all_files = glob.glob(input_path+criteria)\n",
    "print(all_files)"
   ]
  },
  {
   "cell_type": "markdown",
   "metadata": {},
   "source": [
    "### Select the raster images which are not only water and save them."
   ]
  },
  {
   "cell_type": "code",
   "execution_count": 4,
   "metadata": {},
   "outputs": [
    {
     "name": "stdout",
     "output_type": "stream",
     "text": [
      "Processing the file: valenciana_624000.0-4368000.0_comunidad_band8.tif\n",
      "Processing the file: valenciana_624000.0-4384000.0_comunidad_band8.tif\n",
      "Processing the file: valenciana_624000.0-4400000.0_comunidad_band8.tif\n",
      "Processing the file: valenciana_624000.0-4432000.0_comunidad_band8.tif\n",
      "Processing the file: valenciana_624000.0-4448000.0_comunidad_band8.tif\n",
      "Processing the file: valenciana_640000.0-4320000.0_comunidad_band8.tif\n",
      "Processing the file: valenciana_640000.0-4336000.0_comunidad_band8.tif\n",
      "Processing the file: valenciana_640000.0-4352000.0_comunidad_band8.tif\n",
      "Processing the file: valenciana_640000.0-4368000.0_comunidad_band8.tif\n",
      "Processing the file: valenciana_640000.0-4384000.0_comunidad_band8.tif\n",
      "Processing the file: valenciana_640000.0-4400000.0_comunidad_band8.tif\n",
      "Processing the file: valenciana_640000.0-4416000.0_comunidad_band8.tif\n",
      "Processing the file: valenciana_640000.0-4432000.0_comunidad_band8.tif\n",
      "Processing the file: valenciana_640000.0-4448000.0_comunidad_band8.tif\n",
      "Processing the file: valenciana_640000.0-4464000.0_comunidad_band8.tif\n",
      "Processing the file: valenciana_656000.0-4256000.0_comunidad_band8.tif\n",
      "Processing the file: valenciana_656000.0-4272000.0_comunidad_band8.tif\n",
      "Processing the file: valenciana_656000.0-4288000.0_comunidad_band8.tif\n",
      "Processing the file: valenciana_656000.0-4320000.0_comunidad_band8.tif\n",
      "Processing the file: valenciana_656000.0-4336000.0_comunidad_band8.tif\n",
      "Processing the file: valenciana_656000.0-4352000.0_comunidad_band8.tif\n",
      "Processing the file: valenciana_656000.0-4368000.0_comunidad_band8.tif\n",
      "Processing the file: valenciana_656000.0-4384000.0_comunidad_band8.tif\n",
      "Processing the file: valenciana_656000.0-4400000.0_comunidad_band8.tif\n",
      "Processing the file: valenciana_656000.0-4416000.0_comunidad_band8.tif\n",
      "Processing the file: valenciana_656000.0-4432000.0_comunidad_band8.tif\n",
      "Processing the file: valenciana_656000.0-4448000.0_comunidad_band8.tif\n",
      "Processing the file: valenciana_672000.0-4208000.0_comunidad_band8.tif\n",
      "Processing the file: valenciana_672000.0-4224000.0_comunidad_band8.tif\n",
      "Processing the file: valenciana_672000.0-4240000.0_comunidad_band8.tif\n",
      "Processing the file: valenciana_672000.0-4256000.0_comunidad_band8.tif\n",
      "Processing the file: valenciana_672000.0-4272000.0_comunidad_band8.tif\n",
      "Processing the file: valenciana_672000.0-4288000.0_comunidad_band8.tif\n",
      "Processing the file: valenciana_672000.0-4304000.0_comunidad_band8.tif\n",
      "Processing the file: valenciana_672000.0-4320000.0_comunidad_band8.tif\n",
      "Processing the file: valenciana_672000.0-4336000.0_comunidad_band8.tif\n",
      "Processing the file: valenciana_672000.0-4352000.0_comunidad_band8.tif\n",
      "Processing the file: valenciana_672000.0-4368000.0_comunidad_band8.tif\n",
      "Processing the file: valenciana_672000.0-4384000.0_comunidad_band8.tif\n",
      "Processing the file: valenciana_672000.0-4400000.0_comunidad_band8.tif\n",
      "Processing the file: valenciana_672000.0-4416000.0_comunidad_band8.tif\n",
      "Processing the file: valenciana_672000.0-4432000.0_comunidad_band8.tif\n",
      "Processing the file: valenciana_688000.0-4192000.0_comunidad_band8.tif\n",
      "Processing the file: valenciana_688000.0-4208000.0_comunidad_band8.tif\n",
      "Processing the file: valenciana_688000.0-4224000.0_comunidad_band8.tif\n",
      "Processing the file: valenciana_688000.0-4240000.0_comunidad_band8.tif\n",
      "Processing the file: valenciana_688000.0-4256000.0_comunidad_band8.tif\n",
      "Processing the file: valenciana_688000.0-4272000.0_comunidad_band8.tif\n",
      "Processing the file: valenciana_688000.0-4288000.0_comunidad_band8.tif\n",
      "Processing the file: valenciana_688000.0-4304000.0_comunidad_band8.tif\n",
      "Processing the file: valenciana_688000.0-4320000.0_comunidad_band8.tif\n",
      "Processing the file: valenciana_688000.0-4336000.0_comunidad_band8.tif\n",
      "Processing the file: valenciana_688000.0-4352000.0_comunidad_band8.tif\n",
      "Processing the file: valenciana_688000.0-4368000.0_comunidad_band8.tif\n",
      "Processing the file: valenciana_688000.0-4384000.0_comunidad_band8.tif\n",
      "Processing the file: valenciana_688000.0-4400000.0_comunidad_band8.tif\n",
      "Processing the file: valenciana_688000.0-4416000.0_comunidad_band8.tif\n",
      "Processing the file: valenciana_688000.0-4432000.0_comunidad_band8.tif\n",
      "Processing the file: valenciana_688000.0-4448000.0_comunidad_band8.tif\n",
      "Processing the file: valenciana_704000.0-4208000.0_comunidad_band8.tif\n",
      "Processing the file: valenciana_704000.0-4224000.0_comunidad_band8.tif\n",
      "Processing the file: valenciana_704000.0-4240000.0_comunidad_band8.tif\n",
      "Processing the file: valenciana_704000.0-4256000.0_comunidad_band8.tif\n",
      "Processing the file: valenciana_704000.0-4272000.0_comunidad_band8.tif\n",
      "Processing the file: valenciana_704000.0-4288000.0_comunidad_band8.tif\n",
      "Processing the file: valenciana_704000.0-4304000.0_comunidad_band8.tif\n",
      "Processing the file: valenciana_704000.0-4320000.0_comunidad_band8.tif\n",
      "Processing the file: valenciana_704000.0-4336000.0_comunidad_band8.tif\n",
      "Processing the file: valenciana_704000.0-4352000.0_comunidad_band8.tif\n",
      "Processing the file: valenciana_704000.0-4368000.0_comunidad_band8.tif\n",
      "Processing the file: valenciana_704000.0-4384000.0_comunidad_band8.tif\n",
      "Processing the file: valenciana_704000.0-4400000.0_comunidad_band8.tif\n",
      "Processing the file: valenciana_704000.0-4416000.0_comunidad_band8.tif\n",
      "Processing the file: valenciana_704000.0-4432000.0_comunidad_band8.tif\n",
      "Processing the file: valenciana_704000.0-4448000.0_comunidad_band8.tif\n",
      "Processing the file: valenciana_704000.0-4464000.0_comunidad_band8.tif\n",
      "Processing the file: valenciana_720000.0-4240000.0_comunidad_band8.tif\n",
      "Processing the file: valenciana_720000.0-4256000.0_comunidad_band8.tif\n",
      "Processing the file: valenciana_720000.0-4272000.0_comunidad_band8.tif\n",
      "Processing the file: valenciana_720000.0-4288000.0_comunidad_band8.tif\n",
      "Processing the file: valenciana_720000.0-4304000.0_comunidad_band8.tif\n",
      "Processing the file: valenciana_720000.0-4320000.0_comunidad_band8.tif\n",
      "Processing the file: valenciana_720000.0-4336000.0_comunidad_band8.tif\n",
      "Processing the file: valenciana_720000.0-4352000.0_comunidad_band8.tif\n",
      "Processing the file: valenciana_720000.0-4368000.0_comunidad_band8.tif\n",
      "Processing the file: valenciana_720000.0-4384000.0_comunidad_band8.tif\n",
      "Processing the file: valenciana_720000.0-4400000.0_comunidad_band8.tif\n",
      "Processing the file: valenciana_720000.0-4416000.0_comunidad_band8.tif\n",
      "Processing the file: valenciana_720000.0-4432000.0_comunidad_band8.tif\n",
      "Processing the file: valenciana_720000.0-4448000.0_comunidad_band8.tif\n",
      "Processing the file: valenciana_720000.0-4464000.0_comunidad_band8.tif\n",
      "Processing the file: valenciana_720000.0-4480000.0_comunidad_band8.tif\n",
      "Processing the file: valenciana_720000.0-4496000.0_comunidad_band8.tif\n",
      "Processing the file: valenciana_720000.0-4512000.0_comunidad_band8.tif\n",
      "Processing the file: valenciana_720000.0-4528000.0_comunidad_band8.tif\n",
      "Processing the file: valenciana_736000.0-4272000.0_comunidad_band8.tif\n",
      "Processing the file: valenciana_736000.0-4288000.0_comunidad_band8.tif\n",
      "Processing the file: valenciana_736000.0-4304000.0_comunidad_band8.tif\n",
      "Processing the file: valenciana_736000.0-4320000.0_comunidad_band8.tif\n",
      "Processing the file: valenciana_736000.0-4336000.0_comunidad_band8.tif\n",
      "Processing the file: valenciana_736000.0-4352000.0_comunidad_band8.tif\n",
      "Processing the file: valenciana_736000.0-4400000.0_comunidad_band8.tif\n",
      "Processing the file: valenciana_736000.0-4416000.0_comunidad_band8.tif\n",
      "Processing the file: valenciana_736000.0-4432000.0_comunidad_band8.tif\n",
      "Processing the file: valenciana_736000.0-4448000.0_comunidad_band8.tif\n",
      "Processing the file: valenciana_736000.0-4464000.0_comunidad_band8.tif\n",
      "Processing the file: valenciana_736000.0-4480000.0_comunidad_band8.tif\n",
      "Processing the file: valenciana_736000.0-4496000.0_comunidad_band8.tif\n",
      "Processing the file: valenciana_736000.0-4512000.0_comunidad_band8.tif\n",
      "Processing the file: valenciana_736000.0-4528000.0_comunidad_band8.tif\n",
      "Processing the file: valenciana_752000.0-4272000.0_comunidad_band8.tif\n",
      "Processing the file: valenciana_752000.0-4288000.0_comunidad_band8.tif\n",
      "Processing the file: valenciana_752000.0-4304000.0_comunidad_band8.tif\n",
      "Processing the file: valenciana_752000.0-4320000.0_comunidad_band8.tif\n",
      "Processing the file: valenciana_752000.0-4432000.0_comunidad_band8.tif\n",
      "Processing the file: valenciana_752000.0-4448000.0_comunidad_band8.tif\n"
     ]
    },
    {
     "name": "stdout",
     "output_type": "stream",
     "text": [
      "Processing the file: valenciana_752000.0-4464000.0_comunidad_band8.tif\n",
      "Processing the file: valenciana_752000.0-4480000.0_comunidad_band8.tif\n",
      "Processing the file: valenciana_752000.0-4496000.0_comunidad_band8.tif\n",
      "Processing the file: valenciana_752000.0-4512000.0_comunidad_band8.tif\n",
      "Processing the file: valenciana_752000.0-4528000.0_comunidad_band8.tif\n",
      "Processing the file: valenciana_768000.0-4288000.0_comunidad_band8.tif\n",
      "Processing the file: valenciana_768000.0-4304000.0_comunidad_band8.tif\n",
      "Processing the file: valenciana_768000.0-4320000.0_comunidad_band8.tif\n",
      "Processing the file: valenciana_768000.0-4448000.0_comunidad_band8.tif\n",
      "Processing the file: valenciana_768000.0-4464000.0_comunidad_band8.tif\n",
      "Processing the file: valenciana_768000.0-4480000.0_comunidad_band8.tif\n",
      "Processing the file: valenciana_768000.0-4496000.0_comunidad_band8.tif\n",
      "Processing the file: valenciana_768000.0-4512000.0_comunidad_band8.tif\n",
      "Processing the file: valenciana_768000.0-4528000.0_comunidad_band8.tif\n",
      "Processing the file: valenciana_784000.0-4480000.0_comunidad_band8.tif\n",
      "Processing the file: valenciana_784000.0-4496000.0_comunidad_band8.tif\n",
      "Processing the file: valenciana_784000.0-4512000.0_comunidad_band8.tif\n"
     ]
    }
   ],
   "source": [
    "for raster_path in all_files:\n",
    "    raster = rasterio.open(raster_path)\n",
    "    data_matrix = raster.read()\n",
    "\n",
    "    file_name = raster_path.split('/')[len(raster_path.split('/'))-1]\n",
    "\n",
    "    if np.unique(data_matrix).any()!=0:\n",
    "        print(f'Processing the file: {file_name}')\n",
    "        tmp = rasterio.open(output_path + file_name, 'w', driver='Gtiff',\n",
    "                                 width=raster.width, height=raster.height,\n",
    "                                 count=raster.count,\n",
    "                                 crs=raster.crs,\n",
    "                                 transform=raster.transform,\n",
    "                                 dtype=raster.dtypes[0]\n",
    "                                 )\n",
    "        tmp.write(raster.read(1),1)\n",
    "        \n",
    "        if raster.count != 1:\n",
    "            tmp.write(raster.read(2),2)\n",
    "            tmp.write(raster.read(3),3)\n",
    "            \n",
    "        tmp.close()"
   ]
  }
 ],
 "metadata": {
  "kernelspec": {
   "display_name": "Python 3",
   "language": "python",
   "name": "python3"
  },
  "language_info": {
   "codemirror_mode": {
    "name": "ipython",
    "version": 3
   },
   "file_extension": ".py",
   "mimetype": "text/x-python",
   "name": "python",
   "nbconvert_exporter": "python",
   "pygments_lexer": "ipython3",
   "version": "3.8.6"
  }
 },
 "nbformat": 4,
 "nbformat_minor": 4
}
