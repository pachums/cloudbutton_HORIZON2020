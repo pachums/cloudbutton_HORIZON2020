{
 "cells": [
  {
   "cell_type": "markdown",
   "metadata": {},
   "source": [
    "# Mask\n",
    "Clip a raster image by mask layer"
   ]
  },
  {
   "cell_type": "markdown",
   "metadata": {},
   "source": [
    "**Import libraries**"
   ]
  },
  {
   "cell_type": "code",
   "execution_count": 1,
   "metadata": {},
   "outputs": [],
   "source": [
    "import gdal\n",
    "import time\n",
    "\n",
    "print('Libraries imported successfully')"
   ]
  },
  {
   "cell_type": "code",
   "execution_count": 2,
   "metadata": {},
   "outputs": [],
   "source": [
    "seg_start=time.time() #For checking ejecution time"
   ]
  },
  {
   "cell_type": "markdown",
   "metadata": {},
   "source": [
    "**Define directories**\n",
    "\n",
    " - <b>layer_path</b>: input layer path for masking\n",
    " \n",
    " - <b>raser_path</b>: path of the raster image to be masked\n",
    "  \n",
    " - <b>out_tif</b>: output path to save the mask image"
   ]
  },
  {
   "cell_type": "code",
   "execution_count": 3,
   "metadata": {},
   "outputs": [],
   "source": [
    "layer_path = '/home/jovyan/work/Dataset_valencia/Dataset_files/comunidad_valenciana.shp'\n",
    "raster_path = '/home/jovyan/work/Dataset_valencia/Dataset_by_bands/Mosaic/comunidad_valenciana_band8.tif'\n",
    "out_tif = '/home/jovyan/work/Dataset_valencia/Dataset_by_bands/Mosaic/comunidad_valenciana_band8_mask.tif'"
   ]
  },
  {
   "cell_type": "markdown",
   "metadata": {},
   "source": [
    "Proccess to make high performance image warping"
   ]
  },
  {
   "cell_type": "code",
   "execution_count": 4,
   "metadata": {},
   "outputs": [],
   "source": [
    "OutTile = gdal.Warp(out_tif, \n",
    "                    raster_path, \n",
    "                    cutlineDSName=layer_path,\n",
    "                    cropToCutline=True,\n",
    "                    dstNodata = 0)"
   ]
  },
  {
   "cell_type": "code",
   "execution_count": 5,
   "metadata": {},
   "outputs": [
    {
     "name": "stdout",
     "output_type": "stream",
     "text": [
      "Mask image finished successfully in 51.882790327072144 s\n"
     ]
    }
   ],
   "source": [
    "print(f'Mask image finished successfully in {time.time() - seg_start} s')"
   ]
  }
 ],
 "metadata": {
  "kernelspec": {
   "display_name": "Python 3",
   "language": "python",
   "name": "python3"
  },
  "language_info": {
   "codemirror_mode": {
    "name": "ipython",
    "version": 3
   },
   "file_extension": ".py",
   "mimetype": "text/x-python",
   "name": "python",
   "nbconvert_exporter": "python",
   "pygments_lexer": "ipython3",
   "version": "3.8.6"
  }
 },
 "nbformat": 4,
 "nbformat_minor": 4
}
