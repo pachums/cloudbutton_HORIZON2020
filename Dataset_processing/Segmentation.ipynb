{
 "cells": [
  {
   "cell_type": "markdown",
   "metadata": {},
   "source": [
    "# Segmentation\n",
    "Segmentate a file raster image following the SLIC algorithm"
   ]
  },
  {
   "cell_type": "code",
   "execution_count": 23,
   "metadata": {},
   "outputs": [
    {
     "name": "stdout",
     "output_type": "stream",
     "text": [
      "Libraries imported successfully\n"
     ]
    }
   ],
   "source": [
    "import numpy as np\n",
    "import gdal\n",
    "from skimage.segmentation import slic\n",
    "from skimage import exposure #print(skimage.__version__)\n",
    "import time\n",
    "\n",
    "print('Libraries imported successfully')"
   ]
  },
  {
   "cell_type": "code",
   "execution_count": null,
   "metadata": {},
   "outputs": [],
   "source": [
    "seg_start=time.time() #For checking ejecution time"
   ]
  },
  {
   "cell_type": "markdown",
   "metadata": {},
   "source": [
    "**Define directories**\n",
    "\n",
    " - <b>tmp_raster</b>: name of the file for the segmentation proccess\n",
    " \n",
    " - <b>raser_path</b>: path of the raster image\n",
    "  \n",
    " - <b>output</b>: output path to save the image"
   ]
  },
  {
   "cell_type": "code",
   "execution_count": null,
   "metadata": {},
   "outputs": [],
   "source": [
    "tmp= '/home/jovyan/work/DATASET/'\n",
    "\n",
    "tmp_raster = 'valenciana_704000.0-4400000.0_comunidad_mask.tif'\n",
    "raster_path = f'{tmp}Dataset_processing/Tiling/{tmp_raster}'\n",
    "output = f'{tmp}OBIA/Segmentation/segmented_{tmp_raster}.tif'"
   ]
  },
  {
   "cell_type": "markdown",
   "metadata": {},
   "source": [
    "**Read** raster image"
   ]
  },
  {
   "cell_type": "code",
   "execution_count": null,
   "metadata": {},
   "outputs": [],
   "source": [
    "driverTiff = gdal.GetDriverByName('GTiff')\n",
    "raster_ds = gdal.Open(raster_path)"
   ]
  },
  {
   "cell_type": "markdown",
   "metadata": {},
   "source": [
    "**Append** all band together"
   ]
  },
  {
   "cell_type": "code",
   "execution_count": null,
   "metadata": {},
   "outputs": [],
   "source": [
    "nbands = raster_ds.RasterCount\n",
    "band_data = []\n",
    "for i in range(1, nbands+1):\n",
    "    band = raster_ds.GetRasterBand(i).ReadAsArray()\n",
    "    band_data.append(band)"
   ]
  },
  {
   "cell_type": "code",
   "execution_count": null,
   "metadata": {},
   "outputs": [],
   "source": [
    "band_data = np.dstack(band_data)\n",
    "img = exposure.rescale_intensity(band_data)\n",
    "img = img.astype('double')"
   ]
  },
  {
   "cell_type": "markdown",
   "metadata": {},
   "source": [
    "Define variables and process the **SLIC algorithm**"
   ]
  },
  {
   "cell_type": "code",
   "execution_count": null,
   "metadata": {},
   "outputs": [],
   "source": [
    "segments = slic(img, n_segments=10000, compactness=0.1, sigma=1, start_label=1)\n",
    "print(f\"SLIC number of segments: {len(np.unique(segments))}\")"
   ]
  },
  {
   "cell_type": "markdown",
   "metadata": {},
   "source": [
    "**Save segments** to raster"
   ]
  },
  {
   "cell_type": "code",
   "execution_count": null,
   "metadata": {},
   "outputs": [],
   "source": [
    "segments_ds = driverTiff.Create(output, raster_ds.RasterXSize, raster_ds.RasterYSize,\n",
    "                                1, gdal.GDT_Float32)\n",
    "segments_ds.SetGeoTransform(raster_ds.GetGeoTransform())\n",
    "segments_ds.SetProjection(raster_ds.GetProjectionRef())\n",
    "segments_ds.GetRasterBand(1).WriteArray(segments)\n",
    "segments_ds = None"
   ]
  },
  {
   "cell_type": "code",
   "execution_count": null,
   "metadata": {},
   "outputs": [],
   "source": [
    "print(f'Segment image finished successfully in {time.time() - seg_start} s')"
   ]
  }
 ],
 "metadata": {
  "kernelspec": {
   "display_name": "Python 3",
   "language": "python",
   "name": "python3"
  },
  "language_info": {
   "codemirror_mode": {
    "name": "ipython",
    "version": 3
   },
   "file_extension": ".py",
   "mimetype": "text/x-python",
   "name": "python",
   "nbconvert_exporter": "python",
   "pygments_lexer": "ipython3",
   "version": "3.8.6"
  }
 },
 "nbformat": 4,
 "nbformat_minor": 4
}
